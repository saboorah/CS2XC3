{
 "cells": [
  {
   "cell_type": "markdown",
   "metadata": {},
   "source": [
    "# Computer Science 2XC3 - Graded Lab II"
   ]
  },
  {
   "cell_type": "markdown",
   "metadata": {},
   "source": [
    "In this day and age, it is very easy to generate automated solutions to any problem, not necessarily becuase of AI, but because of vast online communities that exist to find solution to popular/common problems. Whether or not that solution is correct and applicable to our context,  can be assessed only if we understand the concepts and can critically evaluate them. The goal of this lab is to motivate you to not only produce the correct solution to problems, but also to reflect about why, how and when your solution will likely succeed/fail. \n",
    "\n",
    "In this lab you will design experiments with sorting and search algorithms. Please read all instructions carefully. Seek the help of TA's if you need clarifications on the task. Do not hard code any results."
   ]
  },
  {
   "cell_type": "code",
   "execution_count": 1,
   "metadata": {},
   "outputs": [],
   "source": [
    "import random\n",
    "import time\n",
    "import timeit \n",
    "import matplotlib.pyplot as plt\n",
    "import numpy as np\n",
    "#"
   ]
  },
  {
   "cell_type": "markdown",
   "metadata": {},
   "source": []
  },
  {
   "cell_type": "markdown",
   "metadata": {},
   "source": [
    "---\n",
    "---"
   ]
  },
  {
   "cell_type": "markdown",
   "metadata": {},
   "source": [
    "### Part A"
   ]
  },
  {
   "cell_type": "markdown",
   "metadata": {},
   "source": [
    "##### A1. Implement three classes with the following sorting algorithms:\n",
    "- Bubble Sort\n",
    "- Insertion Sort\n",
    "- Selection Sort"
   ]
  },
  {
   "cell_type": "code",
   "execution_count": 7,
   "metadata": {},
   "outputs": [
    {
     "name": "stdout",
     "output_type": "stream",
     "text": [
      "[96, 85, 73, 21, 65]\n",
      "[21, 65, 73, 85, 96]\n"
     ]
    }
   ],
   "source": [
    "class BubbleSort:\n",
    "    def __init__(self, items_to_sort):\n",
    "        self.items = items_to_sort\n",
    "        self.sorted_items=[]\n",
    "\n",
    "    ### your implementation for bubble sort goes here \n",
    "    #items_to_sort is the list which you have to sort\n",
    "    #list im sorting is self.items\n",
    "    \n",
    "    def get_sorted(self):\n",
    "        \n",
    "        leng = len(self.items)\n",
    "        \n",
    "        for i in range(1,leng):\n",
    "            for j in range(0,leng - i):\n",
    "                if self.items[j] > self.items[j+1]:\n",
    "                    temp = self.items[j]\n",
    "                    self.items[j] = self.items[j+1]\n",
    "                    self.items[j+1] = temp\n",
    "            self.sorted_items = self.items\n",
    "            \n",
    "        return self.sorted_items\n",
    "    \n",
    "#test\n",
    "list1 = []\n",
    "\n",
    "for i in range (5,10):\n",
    "    list1.append(random.randint(0,100))\n",
    "\n",
    "l = BubbleSort(list1)\n",
    "print(list1)\n",
    "l2 = l.get_sorted()\n",
    "print(l2)\n"
   ]
  },
  {
   "cell_type": "code",
   "execution_count": 2,
   "metadata": {},
   "outputs": [
    {
     "name": "stdout",
     "output_type": "stream",
     "text": [
      "[81, 46, 72, 71, 63]\n",
      "[46, 63, 71, 72, 81]\n"
     ]
    }
   ],
   "source": [
    "class InsertionSort:\n",
    "    def __init__(self, items_to_sort):\n",
    "        self.items = items_to_sort\n",
    "        self.sorted_items=[]\n",
    "\n",
    "       ### your implementation for insertion sort goes here \n",
    "        \n",
    "    def get_sorted(self):\n",
    "        #self.sorted_items = self.items\n",
    "        for i in range (1,len(self.items)):\n",
    "            prev = i-1\n",
    "            curr = i\n",
    "\n",
    "            while self.items[prev] > self.items[curr]:\n",
    "                #swap\n",
    "                temp = self.items[curr]\n",
    "                self.items[curr] = self.items[prev]\n",
    "                self.items[prev] = temp\n",
    "\n",
    "                curr = prev\n",
    "                if prev > 0:\n",
    "                    prev = curr -1\n",
    "            \n",
    "           \n",
    "    \n",
    "        self.sorted_items = self.items\n",
    "        return self.sorted_items\n",
    "    \n",
    "\n",
    "#test\n",
    "list1 = []\n",
    "\n",
    "for i in range (5,10):\n",
    "    list1.append(random.randint(0,100))\n",
    "\n",
    "l = InsertionSort(list1)\n",
    "print(list1)\n",
    "l2 = l.get_sorted()\n",
    "print(l2)"
   ]
  },
  {
   "cell_type": "code",
   "execution_count": 6,
   "metadata": {},
   "outputs": [
    {
     "name": "stdout",
     "output_type": "stream",
     "text": [
      "[96, 52, 94, 26, 5]\n",
      "[5, 26, 52, 94, 96]\n"
     ]
    }
   ],
   "source": [
    "class SelectionSort:\n",
    "    def __init__(self, items_to_sort):\n",
    "        self.items = items_to_sort\n",
    "        self.sorted_items=[]\n",
    "#\n",
    "    def get_sorted(self):\n",
    "        for i in range(len(self.items)-1):\n",
    "            min_index = i\n",
    "            for j in range(i+1, len(self.items)):\n",
    "                if self.items[j] < self.items[min_index]:\n",
    "                    min_index = j\n",
    "            if i != min_index:\n",
    "                temp = self.items[i]\n",
    "                self.items[i] = self.items[min_index]\n",
    "                self.items[min_index] = temp\n",
    "            self.sorted_items = self.items\n",
    "\n",
    "    #def get_sorted(self):\n",
    "        return self.sorted_items\n",
    "    \n",
    "#test\n",
    "list1 = []\n",
    "\n",
    "for i in range (5,10):\n",
    "    list1.append(random.randint(0,100))\n",
    "\n",
    "l = SelectionSort(list1)\n",
    "print(list1)\n",
    "l2 = l.get_sorted()\n",
    "print(l2)"
   ]
  },
  {
   "cell_type": "markdown",
   "metadata": {},
   "source": [
    "___"
   ]
  },
  {
   "cell_type": "markdown",
   "metadata": {},
   "source": [
    "##### A2. Compute the performance of above 3 algorithms on a single list of real numbers.\n",
    "\n",
    "First generate a custom random list using function <code> create_custom_list()</code>. Execute each of the above algorithm for N trials ( select N >= 75) on the list and plot the timing of each execution on a bar chart. Also calculate the average execution time for the entire batch of N trials ( you can either display it on the chart or simply <code> print()</code> it). For larger values of N, consider breaking N trials into mini batches of n executions and plotting execution times for each mini batch. For instance, if you select N=1000, to plot execution timings for 1000 trials, you may break them into mini batch of n=10 trials and display average of each mini batch. This will reduce clutter in your bar charts while still enabling you to perform extensive testing with higher N.\n",
    "\n",
    "Execute each of the above algorithm on the same set of integers. The outcome of your code should be 3 charts for each algorithm run on your list N times. Few utility functions are given below. You do not have to necessarily use the <code> draw_plot()</code> function. You can plot your timings using an excel sheet and paste the image of your timings here. Refer to [Markdown Guide](https://www.markdownguide.org/basic-syntax/) on how to add images in the jupyter notebook or ask your TA."
   ]
  },
  {
   "cell_type": "code",
   "execution_count": 3,
   "metadata": {},
   "outputs": [],
   "source": [
    "def create_custom_list(length, max_value, item=None, item_index=None):\n",
    "    random_list = [random.randint(0,max_value) for i in range(length)]\n",
    "    if item!= None:\n",
    "        random_list.insert(item_index,item)\n",
    "    return random_list"
   ]
  },
  {
   "cell_type": "code",
   "execution_count": 4,
   "metadata": {},
   "outputs": [],
   "source": [
    "def draw_plot(run_arr):\n",
    "    x = np.arange(0, len(run_arr),1)\n",
    "    fig=plt.figure(figsize=(20,8))\n",
    "    plt.bar(x,run_arr)\n",
    "    plt.axhline(np.mean(run_arr),color=\"red\",linestyle=\"--\",label=\"Avg\")\n",
    "    plt.xlabel(\"Iterations\")\n",
    "    plt.ylabel(\"Run time in ms order of 1e-6\")\n",
    "    plt.title(\"Run time for retrieval\")\n",
    "    plt.show()"
   ]
  },
  {
   "cell_type": "code",
   "execution_count": 5,
   "metadata": {},
   "outputs": [
    {
     "name": "stdout",
     "output_type": "stream",
     "text": [
      "[78, 3, 27, 47, 11, 39, 14, 65, 24, 25, 15, 57, 51, 37, 28, 37, 89, 13, 28, 61, 44, 60, 6, 55, 87, 31, 71, 55, 90, 79, 3, 13, 57, 21, 56, 9, 27, 94, 31, 84, 97, 54, 2, 11, 16, 91, 68, 86, 12, 72, 35, 85, 59, 81, 97, 13, 84, 27, 86, 31, 61, 99, 97, 89, 54, 15, 91, 87, 65, 32, 30, 94, 67, 78, 63, 10, 63]\n"
     ]
    },
    {
     "ename": "NameError",
     "evalue": "name 'BubbleSort' is not defined",
     "output_type": "error",
     "traceback": [
      "\u001b[1;31m---------------------------------------------------------------------------\u001b[0m",
      "\u001b[1;31mNameError\u001b[0m                                 Traceback (most recent call last)",
      "\u001b[1;32m~\\AppData\\Local\\Temp\\ipykernel_3100\\840395713.py\u001b[0m in \u001b[0;36m<module>\u001b[1;34m\u001b[0m\n\u001b[0;32m      5\u001b[0m \u001b[0mprint\u001b[0m\u001b[1;33m(\u001b[0m\u001b[0ml\u001b[0m\u001b[1;33m)\u001b[0m\u001b[1;33m\u001b[0m\u001b[1;33m\u001b[0m\u001b[0m\n\u001b[0;32m      6\u001b[0m \u001b[1;32mfor\u001b[0m \u001b[0mi\u001b[0m \u001b[1;32min\u001b[0m \u001b[0mrange\u001b[0m\u001b[1;33m(\u001b[0m\u001b[0mruns\u001b[0m\u001b[1;33m)\u001b[0m\u001b[1;33m:\u001b[0m\u001b[1;33m\u001b[0m\u001b[1;33m\u001b[0m\u001b[0m\n\u001b[1;32m----> 7\u001b[1;33m     \u001b[0mlist1\u001b[0m \u001b[1;33m=\u001b[0m \u001b[0mBubbleSort\u001b[0m\u001b[1;33m(\u001b[0m\u001b[0ml\u001b[0m\u001b[1;33m)\u001b[0m\u001b[1;33m\u001b[0m\u001b[1;33m\u001b[0m\u001b[0m\n\u001b[0m\u001b[0;32m      8\u001b[0m     \u001b[0mstart\u001b[0m \u001b[1;33m=\u001b[0m \u001b[0mtimeit\u001b[0m\u001b[1;33m.\u001b[0m\u001b[0mdefault_timer\u001b[0m\u001b[1;33m(\u001b[0m\u001b[1;33m)\u001b[0m\u001b[1;33m\u001b[0m\u001b[1;33m\u001b[0m\u001b[0m\n\u001b[0;32m      9\u001b[0m     \u001b[0mfound\u001b[0m \u001b[1;33m=\u001b[0m \u001b[0mlist1\u001b[0m\u001b[1;33m.\u001b[0m\u001b[0mget_sorted\u001b[0m\u001b[1;33m(\u001b[0m\u001b[1;33m)\u001b[0m\u001b[1;33m\u001b[0m\u001b[1;33m\u001b[0m\u001b[0m\n",
      "\u001b[1;31mNameError\u001b[0m: name 'BubbleSort' is not defined"
     ]
    }
   ],
   "source": [
    "### Bubble sort experiment code goes here\n",
    "runs = random.randint(76,500)\n",
    "run_times = []\n",
    "l = create_custom_list(77,100)\n",
    "print(l)\n",
    "for i in range(runs):\n",
    "    list1 = BubbleSort(l)\n",
    "    start = timeit.default_timer()\n",
    "    found = list1.get_sorted()\n",
    "    stop = timeit.default_timer()\n",
    "    run_times.append(stop-start)\n",
    "print(found)\n",
    "draw_plot(run_times)\n"
   ]
  },
  {
   "cell_type": "code",
   "execution_count": 10,
   "metadata": {},
   "outputs": [
    {
     "name": "stdout",
     "output_type": "stream",
     "text": [
      "[46, 4, 96, 10, 100, 84, 74, 58, 0, 84, 21, 89, 95, 41, 58, 59, 76, 53, 9, 49, 35, 4, 66, 53, 68, 78, 71, 21, 81, 20, 39, 30, 38, 24, 25, 6, 89, 75, 13, 64, 56, 81, 63, 91, 5, 83, 64, 12, 54, 45, 49, 88, 81, 20, 98, 37, 43, 74, 57, 83, 55, 73, 87, 21, 56, 72, 72, 69, 80, 78, 63, 52, 87, 38, 39, 98, 17]\n",
      "[0, 4, 4, 5, 6, 9, 10, 12, 13, 17, 20, 20, 21, 21, 21, 24, 25, 30, 35, 37, 38, 38, 39, 39, 41, 43, 45, 46, 49, 49, 52, 53, 53, 54, 55, 56, 56, 57, 58, 58, 59, 63, 63, 64, 64, 66, 68, 69, 71, 72, 72, 73, 74, 74, 75, 76, 78, 78, 80, 81, 81, 81, 83, 83, 84, 84, 87, 87, 88, 89, 89, 91, 95, 96, 98, 98, 100]\n"
     ]
    },
    {
     "data": {
      "image/png": "[encoded data removed]",
      "text/plain": [
       "<Figure size 2000x800 with 1 Axes>"
      ]
     },
     "metadata": {},
     "output_type": "display_data"
    }
   ],
   "source": [
    "### Insertion sort experiment code goes here\n",
    "\n",
    "runs = random.randint(76,500)\n",
    "run_times = []\n",
    "l = create_custom_list(77,100)\n",
    "print(l)\n",
    "for i in range(runs):\n",
    "    list1 = InsertionSort(l)\n",
    "    start = timeit.default_timer()\n",
    "    found = list1.get_sorted()\n",
    "    stop = timeit.default_timer()\n",
    "    run_times.append(stop-start)\n",
    "print(found)\n",
    "draw_plot(run_times)"
   ]
  },
  {
   "cell_type": "code",
   "execution_count": 9,
   "metadata": {},
   "outputs": [
    {
     "name": "stdout",
     "output_type": "stream",
     "text": [
      "[23, 69, 58, 12, 20, 81, 38, 37, 31, 33, 84, 70, 58, 77, 21, 80, 27, 52, 50, 25, 92, 87, 56, 83, 78, 72, 45, 77, 99, 36, 59, 4, 84, 55, 78, 4, 27, 90, 12, 25, 95, 44, 33, 84, 78, 19, 94, 82, 83, 81, 28, 14, 11, 12, 92, 40, 27, 76, 63, 38, 67, 71, 72, 21, 87, 79, 73, 54, 87, 29, 12, 9, 3, 56, 91, 99, 17]\n"
     ]
    },
    {
     "ename": "NameError",
     "evalue": "name 'SelectionSort' is not defined",
     "output_type": "error",
     "traceback": [
      "\u001b[1;31m---------------------------------------------------------------------------\u001b[0m",
      "\u001b[1;31mNameError\u001b[0m                                 Traceback (most recent call last)",
      "\u001b[1;32m~\\AppData\\Local\\Temp\\ipykernel_3100\\192386987.py\u001b[0m in \u001b[0;36m<module>\u001b[1;34m\u001b[0m\n\u001b[0;32m      6\u001b[0m \u001b[0mprint\u001b[0m\u001b[1;33m(\u001b[0m\u001b[0ml\u001b[0m\u001b[1;33m)\u001b[0m\u001b[1;33m\u001b[0m\u001b[1;33m\u001b[0m\u001b[0m\n\u001b[0;32m      7\u001b[0m \u001b[1;32mfor\u001b[0m \u001b[0mi\u001b[0m \u001b[1;32min\u001b[0m \u001b[0mrange\u001b[0m\u001b[1;33m(\u001b[0m\u001b[0mruns\u001b[0m\u001b[1;33m)\u001b[0m\u001b[1;33m:\u001b[0m\u001b[1;33m\u001b[0m\u001b[1;33m\u001b[0m\u001b[0m\n\u001b[1;32m----> 8\u001b[1;33m     \u001b[0mlist1\u001b[0m \u001b[1;33m=\u001b[0m \u001b[0mSelectionSort\u001b[0m\u001b[1;33m(\u001b[0m\u001b[0ml\u001b[0m\u001b[1;33m)\u001b[0m\u001b[1;33m\u001b[0m\u001b[1;33m\u001b[0m\u001b[0m\n\u001b[0m\u001b[0;32m      9\u001b[0m     \u001b[0mstart\u001b[0m \u001b[1;33m=\u001b[0m \u001b[0mtimeit\u001b[0m\u001b[1;33m.\u001b[0m\u001b[0mdefault_timer\u001b[0m\u001b[1;33m(\u001b[0m\u001b[1;33m)\u001b[0m\u001b[1;33m\u001b[0m\u001b[1;33m\u001b[0m\u001b[0m\n\u001b[0;32m     10\u001b[0m     \u001b[0mfound\u001b[0m \u001b[1;33m=\u001b[0m \u001b[0mlist1\u001b[0m\u001b[1;33m.\u001b[0m\u001b[0mget_sorted\u001b[0m\u001b[1;33m(\u001b[0m\u001b[1;33m)\u001b[0m\u001b[1;33m\u001b[0m\u001b[1;33m\u001b[0m\u001b[0m\n",
      "\u001b[1;31mNameError\u001b[0m: name 'SelectionSort' is not defined"
     ]
    }
   ],
   "source": [
    "### Selection sort experiment code goes here\n",
    "\n",
    "runs = random.randint(76,500)\n",
    "run_times = []\n",
    "l = create_custom_list(77,100)\n",
    "print(l)\n",
    "for i in range(runs):\n",
    "    list1 = SelectionSort(l)\n",
    "    start = timeit.default_timer()\n",
    "    found = list1.get_sorted()\n",
    "    stop = timeit.default_timer()\n",
    "    run_times.append(stop-start)\n",
    "print(found)\n",
    "draw_plot(run_times)"
   ]
  },
  {
   "cell_type": "markdown",
   "metadata": {},
   "source": [
    "You would notice that certain sorting algorithms have better time complexity (or performance) than others. Write below a reflection of your observations. Can you confidently compare the performance across the 3 algorithms? Why does certain algorithm perform better than the other? What are the various factors impacting the best performing and the worst performing algorithm. Write a few sentences answering each of the above questions. Also describe any other observation you found important.\n",
    "\n",
    "**Reflection**:\n"
   ]
  },
  {
   "cell_type": "markdown",
   "metadata": {},
   "source": [
    "---"
   ]
  },
  {
   "cell_type": "markdown",
   "metadata": {},
   "source": [
    "##### A3. Compute the performance of above 3 algorithms on a different list sizes.\n",
    "\n",
    "The <code> create_custom_list()</code> helps you create lists of varying lengths and range of numbers. Plot a **line chart** that shows the performance of each algorithm on different list sizes ranging between 1 - 100,000 integers. If you think about this question, you are essentially plotting the time complexity on various list sizes. "
   ]
  },
  {
   "cell_type": "code",
   "execution_count": 5,
   "metadata": {},
   "outputs": [],
   "source": [
    "def line_plot(run_arr):\n",
    "    x = np.arange(0, len(run_arr),1)\n",
    "    fig=plt.figure(figsize=(20,8))\n",
    "    plt.plot(x,run_arr)\n",
    "   # plt.axhline(np.mean(run_arr),color=\"red\",linestyle=\"--\",label=\"Avg\")\n",
    "    plt.xlabel(\"Iterations\")\n",
    "    plt.ylabel(\"Run time in ms order of 1e-6\")\n",
    "    plt.title(\"Run time for retrieval\")\n",
    "    plt.show()\n",
    "\n",
    "#print(np.arange(0,10,1))"
   ]
  },
  {
   "cell_type": "code",
   "execution_count": 12,
   "metadata": {},
   "outputs": [],
   "source": [
    "### Bubble sort experiment code goes here"
   ]
  },
  {
   "cell_type": "code",
   "execution_count": 27,
   "metadata": {},
   "outputs": [
    {
     "name": "stdout",
     "output_type": "stream",
     "text": [
      "times= [5.1160002476535735e-06, 0.0002380499997525476, 0.0013565780004137196, 0.002716476000496186, 0.0040884180000284685]\n"
     ]
    },
    {
     "data": {
      "image/png": "[encoded data removed]",
      "text/plain": [
       "<Figure size 2000x800 with 1 Axes>"
      ]
     },
     "metadata": {},
     "output_type": "display_data"
    }
   ],
   "source": [
    "### Insertion sort experiment code goes here\n",
    "runs = 50\n",
    "run_times = []\n",
    "\n",
    "#print(l)\n",
    "for i in range(1,1000,200):\n",
    "    l = create_custom_list(i,100)\n",
    "    avg =0 \n",
    "    #find avg for each length of list\n",
    "    for j in range(runs):\n",
    "        insertion = InsertionSort(l)\n",
    "        start = timeit.default_timer()\n",
    "        insertion.get_sorted()\n",
    "        stop = timeit.default_timer()\n",
    "        avg += (stop-start)\n",
    "    run_times.append(avg / runs)\n",
    "print(\"times=\",run_times)\n",
    "line_plot(run_times)"
   ]
  },
  {
   "cell_type": "code",
   "execution_count": null,
   "metadata": {},
   "outputs": [],
   "source": [
    "### Selection sort experiment code goes here"
   ]
  },
  {
   "cell_type": "markdown",
   "metadata": {},
   "source": [
    "Describe you results here. What did you observe when comparing the charts? Which algorithm was more performant and why?\n",
    "\n",
    "**Reflection** :"
   ]
  },
  {
   "cell_type": "markdown",
   "metadata": {},
   "source": [
    "---"
   ]
  },
  {
   "cell_type": "markdown",
   "metadata": {},
   "source": [
    "##### A4. Compute the performance of above 3 algorithms on a different list \"states\".\n",
    "\n",
    "Using the same above list generation function (or writing a function of your own), create two different lists states: \n",
    "\n",
    "- A state where the list is **near** sorted.\n",
    "- A state where the list is completely unsorted.\n",
    "\n",
    "HINTS: \n",
    "\n",
    "- You can implement a \"controlled\" Quicksort algorithm for such a function. While you can find many implementations of such a function online, significant number of those solutions originate from this psuedocode [Generating Sorted Lists of Random Numbers](https://dl.acm.org/doi/pdf/10.1145/355900.355907). \n",
    "\n",
    "- You can modify the list generation code given above to create the above list examples.\n",
    "\n",
    "Compare the performance of all 3 sorting algorithms on these two lists. Plot their performance on bar chart and display them here. "
   ]
  },
  {
   "cell_type": "code",
   "execution_count": 117,
   "metadata": {},
   "outputs": [
    {
     "name": "stdout",
     "output_type": "stream",
     "text": [
      "[47, 41, 2, 4, 37, 52, 84, 59, 24, 26, 62, 84, 68, 7, 69, 94, 8, 46, 78, 9, 40, 40, 59, 40, 65, 51, 55, 0, 21, 32, 4, 24, 23, 2, 33, 49, 60, 29, 26, 41, 76, 98, 80, 51, 30, 88, 67, 62, 50, 44, 71, 34, 54, 20, 53, 50, 19, 91, 11, 73, 40, 60, 8, 76, 87, 21, 47, 48, 8, 30, 63, 25, 68, 66, 94, 86, 91, 45, 54, 84, 89, 40, 25, 11, 29, 70, 90, 17, 1, 93, 70, 65, 97, 55, 1, 59, 33, 2, 91, 10, 35, 58, 69, 9, 1, 18, 61, 20, 38, 96, 15, 83, 70, 12, 77, 43, 13, 18, 38, 56, 0, 9, 29, 26, 69, 19, 99, 13, 87, 58, 25, 8, 19, 83, 55, 34, 27, 75, 79, 87, 94, 49, 15, 86, 72, 78, 3, 49, 18, 82, 50, 60, 37, 48, 75, 84, 37, 6, 21, 82, 29, 62, 35, 86, 38, 14, 59, 6, 66, 95, 39, 43, 59, 48, 73, 64, 3, 5, 94, 84, 17, 27, 42, 17, 58, 29, 83, 73, 86, 82, 40, 90, 81, 59, 86, 9, 38, 23, 50, 24, 87, 29, 74, 10, 70, 45, 92, 100, 71, 39, 89, 7, 91, 30, 13, 64, 18, 32, 58, 27, 45, 58, 38, 38, 29, 70, 43, 93, 5, 89, 99, 36, 85, 38, 98, 80, 28, 54, 44, 96, 29, 23, 4, 99, 63, 27, 8, 37, 99, 98, 16, 50, 54, 29, 42, 27, 20, 93, 55, 60, 74, 12, 86, 38, 88, 8, 3, 18, 44, 94, 62, 43, 76, 19, 12, 98, 97, 48, 24, 13, 4, 39, 82, 84, 59, 63, 20, 2, 91, 50, 89, 68, 78, 0, 96, 50, 19, 26, 39, 29, 96, 17, 53, 18, 25, 76, 45, 2, 84, 74, 66, 74, 88, 58, 27, 89, 41, 1, 44, 81, 66, 71, 82, 6, 95, 8, 75, 45, 99, 95, 91, 37, 16, 98, 97, 80, 64, 33, 17, 8, 7, 40, 56, 41, 92, 2, 37, 57, 82, 75, 32, 86, 74, 95, 67, 99, 13, 26, 84, 61, 4, 23, 0, 33, 0, 99, 70, 12, 59, 80, 18, 82, 49, 93, 30, 37, 10, 90, 14, 57, 77, 42, 37, 86, 28, 34, 98, 68, 3, 38, 0, 72, 55, 89, 29, 78, 8, 19, 48, 44, 85, 75, 93, 67, 18, 58, 27, 77, 3, 81, 24, 3, 53, 65, 90, 8, 62, 62, 41, 39, 23, 62, 9, 80, 57, 68, 70, 2, 9, 33, 19, 51, 29, 14, 44, 46, 3, 82, 73, 58, 23, 76, 38, 5, 85, 29, 86, 56, 75, 57, 12, 57, 82, 89, 67, 43, 54, 52, 25, 63, 31, 90, 10, 38, 38, 68, 83, 62, 89, 46, 34, 18, 0, 36, 47, 98, 36, 72, 91, 81, 91, 37, 4, 52, 43, 70, 53, 1, 29, 68, 21, 44, 84, 67, 15, 82, 63, 34, 61, 95, 17, 47, 53, 19, 92, 49, 54, 71, 59, 40, 24, 31, 8, 3, 99, 81, 68, 22, 44, 38, 41, 96, 23, 70, 88, 10, 58, 21, 25, 78, 19, 0, 29, 42, 13, 45, 8, 19, 64, 62, 76, 67, 32, 10, 79, 21, 47, 30, 48, 22, 18, 93, 71, 43, 41, 16, 79, 64, 16, 60, 24, 56, 79, 89, 5, 32, 84, 58, 95, 37, 2, 49, 56, 87, 49, 35, 62, 79, 74, 82, 30, 56, 49, 87, 17, 56, 3, 65, 40, 46, 15, 55, 49, 30, 92, 27, 75, 38, 38, 26, 54, 44, 36, 53, 39, 19, 89, 30, 66, 100, 85, 21, 67, 22, 82, 82, 95, 57, 34, 42, 60, 96, 62, 18, 15, 88, 70, 32, 85, 79, 45, 87, 32, 78, 72, 31, 74, 18, 19, 12, 48, 74, 61, 92, 20, 58, 15, 27, 5, 13, 78, 38, 3, 1, 46, 46, 34, 55, 14, 1, 8, 61, 83, 95, 99, 97, 87, 8, 40, 53, 64, 6, 14, 71, 58, 21, 8, 6, 17, 93, 56, 81, 32, 71, 95, 63, 35, 27, 12, 59, 85, 25, 45, 26, 89, 93, 1, 43, 79, 6, 44, 11, 67, 63, 48, 54, 71, 78, 21, 58, 51, 71, 89, 8, 57, 8, 61, 26, 60, 88, 2, 69, 46, 36, 68, 0, 34, 59, 37, 44, 81, 85, 99, 19, 89, 37, 27, 80, 77, 40, 9, 73, 72, 32, 28, 5, 42, 6, 57, 88, 61, 17, 33, 47, 45, 30, 94, 64, 74, 3, 46, 63, 32, 94, 57, 96, 61, 61, 97, 28, 0, 86, 40, 73, 61, 49, 65, 86, 46, 51, 4, 92, 77, 91, 20, 3, 25, 30, 37, 32, 98, 23, 78, 50, 69, 6, 57, 48, 79, 94, 67, 56, 67, 73, 67, 0, 40, 54, 68, 90, 78, 34, 20, 11, 7, 75, 84, 95, 63, 94, 37, 79, 70, 13, 100, 13, 53, 44, 56, 57, 64, 75, 100, 66, 31, 50, 38, 73, 35, 36, 61, 31, 38, 32, 17, 64, 67, 15, 44, 27, 82, 48, 84, 3, 91, 74, 17, 39, 32, 30, 93, 79, 1, 9, 39, 38, 79, 52, 71, 79, 97, 41, 17, 75, 57, 61, 91, 79, 73, 31, 63, 49, 95, 98, 33, 27, 29, 5, 23, 66, 88, 50, 36, 65, 25, 12, 60, 64, 63, 11, 6, 29, 42, 13, 86, 18, 19, 74, 2, 22, 94, 84, 8, 84, 98, 40, 90, 28, 17, 74, 62, 37, 29, 75, 34, 20, 72, 95, 18, 91, 81, 31, 2, 95, 52, 7, 41, 96, 35, 2, 11, 39, 16, 51, 63, 29, 0, 5, 39, 73, 18, 18, 4, 1, 22, 35, 27, 25, 7, 29, 91, 3, 5, 62, 24, 5, 95, 3, 2, 49, 42, 52, 10, 27, 60, 16, 82, 20, 38, 68, 45, 92, 43, 52, 97, 35, 8, 13, 0, 26, 67, 4, 73, 52, 70, 24, 84, 0, 48, 39]\n",
      "[8, 4, 7, 8, 9, 0, 4, 2, 11, 8, 8, 11, 1, 1, 2, 10, 9, 1, 15, 12, 13, 0, 9, 13, 8, 15, 3, 6, 14, 6, 3, 5, 9, 10, 7, 13, 5, 4, 8, 16, 12, 8, 3, 12, 13, 4, 2, 0, 2, 1, 6, 8, 16, 8, 7, 2, 13, 4, 0, 0, 12, 10, 14, 3, 0, 8, 3, 3, 8, 9, 2, 9, 14, 3, 5, 12, 10, 0, 4, 1, 15, 2, 3, 10, 0, 13, 8, 10, 16, 16, 5, 2, 3, 15, 15, 12, 15, 5, 13, 3, 1, 14, 1, 8, 8, 6, 14, 8, 6, 12, 1, 6, 11, 8, 8, 2, 0, 9, 5, 6, 3, 0, 4, 3, 6, 0, 11, 7, 13, 13, 15, 3, 1, 9, 5, 12, 11, 6, 13, 2, 8, 2, 7, 2, 11, 16, 0, 5, 4, 1, 7, 3, 5, 5, 3, 2, 10, 16, 8, 13, 0, 4, 0, 17, 47, 37, 52, 84, 59, 24, 26, 62, 84, 68, 69, 94, 46, 78, 40, 40, 59, 40, 65, 51, 55, 21, 32, 24, 23, 33, 49, 60, 29, 26, 41, 76, 98, 80, 51, 30, 88, 67, 62, 50, 44, 71, 34, 54, 20, 53, 50, 19, 91, 73, 40, 60, 76, 87, 21, 47, 48, 30, 63, 25, 68, 66, 94, 86, 91, 45, 54, 84, 89, 40, 25, 29, 70, 90, 17, 93, 70, 65, 97, 55, 59, 33, 91, 35, 58, 69, 18, 61, 20, 38, 96, 83, 70, 77, 43, 18, 38, 56, 29, 26, 69, 19, 99, 87, 58, 25, 19, 83, 55, 34, 27, 75, 79, 87, 94, 49, 86, 72, 78, 49, 18, 82, 50, 60, 37, 48, 75, 84, 37, 21, 82, 29, 62, 35, 86, 38, 59, 66, 95, 39, 43, 59, 48, 73, 64, 94, 84, 17, 27, 42, 17, 58, 29, 83, 73, 86, 82, 40, 90, 81, 59, 86, 38, 23, 50, 24, 87, 29, 74, 70, 45, 92, 100, 71, 39, 89, 91, 30, 64, 18, 32, 58, 27, 45, 58, 38, 38, 29, 70, 43, 93, 89, 99, 36, 85, 38, 98, 80, 28, 54, 44, 96, 29, 23, 99, 63, 27, 37, 99, 98, 50, 54, 29, 42, 27, 20, 93, 55, 60, 74, 86, 38, 88, 18, 44, 94, 62, 43, 76, 19, 98, 97, 48, 24, 39, 82, 84, 59, 63, 20, 91, 50, 89, 68, 78, 96, 50, 19, 26, 39, 29, 96, 17, 53, 18, 25, 76, 45, 84, 74, 66, 74, 88, 58, 27, 89, 41, 44, 81, 66, 71, 82, 95, 75, 45, 99, 95, 91, 37, 98, 97, 80, 64, 33, 17, 40, 56, 41, 92, 37, 57, 82, 75, 32, 86, 74, 95, 67, 99, 26, 84, 61, 23, 33, 99, 70, 59, 80, 18, 82, 49, 93, 30, 37, 90, 57, 77, 42, 37, 86, 28, 34, 98, 68, 38, 72, 55, 89, 29, 78, 19, 48, 44, 85, 75, 93, 67, 18, 58, 27, 77, 81, 24, 53, 65, 90, 62, 62, 41, 39, 23, 62, 80, 57, 68, 70, 33, 19, 51, 29, 44, 46, 82, 73, 58, 23, 76, 38, 85, 29, 86, 56, 75, 57, 57, 82, 89, 67, 43, 54, 52, 25, 63, 31, 90, 38, 38, 68, 83, 62, 89, 46, 34, 18, 36, 47, 98, 36, 72, 91, 81, 91, 37, 52, 43, 70, 53, 29, 68, 21, 44, 84, 67, 82, 63, 34, 61, 95, 41, 47, 53, 19, 92, 49, 54, 71, 59, 40, 24, 31, 99, 81, 68, 22, 44, 38, 41, 96, 23, 70, 88, 58, 21, 25, 78, 19, 29, 42, 45, 19, 64, 62, 76, 67, 32, 79, 21, 47, 30, 48, 22, 18, 93, 71, 43, 41, 79, 64, 60, 24, 56, 79, 89, 32, 84, 58, 95, 37, 49, 56, 87, 49, 35, 62, 79, 74, 82, 30, 56, 49, 87, 17, 56, 65, 40, 46, 55, 49, 30, 92, 27, 75, 38, 38, 26, 54, 44, 36, 53, 39, 19, 89, 30, 66, 100, 85, 21, 67, 22, 82, 82, 95, 57, 34, 42, 60, 96, 62, 18, 88, 70, 32, 85, 79, 45, 87, 32, 78, 72, 31, 74, 18, 19, 48, 74, 61, 92, 20, 58, 27, 78, 38, 46, 46, 34, 55, 61, 83, 95, 99, 97, 87, 40, 53, 64, 71, 58, 21, 17, 93, 56, 81, 32, 71, 95, 63, 35, 27, 59, 85, 25, 45, 26, 89, 93, 43, 79, 44, 67, 63, 48, 54, 71, 78, 21, 58, 51, 71, 89, 57, 61, 26, 60, 88, 69, 46, 36, 68, 34, 59, 37, 44, 81, 85, 99, 19, 89, 37, 27, 80, 77, 40, 73, 72, 32, 28, 42, 57, 88, 61, 17, 33, 47, 45, 30, 94, 64, 74, 46, 63, 32, 94, 57, 96, 61, 61, 97, 28, 86, 40, 73, 61, 49, 65, 86, 46, 51, 92, 77, 91, 20, 25, 30, 37, 32, 98, 23, 78, 50, 69, 57, 48, 79, 94, 67, 56, 67, 73, 67, 40, 54, 68, 90, 78, 34, 20, 75, 84, 95, 63, 94, 37, 79, 70, 100, 53, 44, 56, 57, 64, 75, 100, 66, 31, 50, 38, 73, 35, 36, 61, 31, 38, 32, 17, 64, 67, 44, 27, 82, 48, 84, 91, 74, 17, 39, 32, 30, 93, 79, 39, 38, 79, 52, 71, 79, 97, 41, 17, 75, 57, 61, 91, 79, 73, 31, 63, 49, 95, 98, 33, 27, 29, 23, 66, 88, 50, 36, 65, 25, 60, 64, 63, 29, 42, 86, 18, 19, 74, 22, 94, 84, 84, 98, 40, 90, 28, 17, 74, 62, 37, 29, 75, 34, 20, 72, 95, 18, 91, 81, 31, 95, 52, 41, 96, 35, 39, 51, 63, 29, 39, 73, 18, 18, 22, 35, 27, 25, 29, 91, 62, 24, 95, 49, 42, 52, 27, 60, 82, 20, 38, 68, 45, 92, 43, 52, 97, 35, 26, 67, 73, 52, 70, 24, 84, 48, 39]\n"
     ]
    }
   ],
   "source": [
    "#partially sort a list  using quick sort\n",
    "\n",
    "#think of k as degree of unsortedness, 1/4 or 1/5 of the list seems to be go to fordesired unsortedness\n",
    "\n",
    "#k is supposed to be the length at which it stops recursing which is why it is in the base case, \n",
    "#implying it wont be fully sorted by k length for the sub lists\n",
    "\n",
    "def quick_sort(my_list, k=1):\n",
    "    \n",
    "    #error handling?\n",
    "    if k > len(my_list):\n",
    "        k = 1\n",
    "     \n",
    "\n",
    "   # if start == None:\n",
    "    start = 0\n",
    "    #if end == None:\n",
    "    end = len(my_list)\n",
    "    \n",
    "\n",
    "    if len(my_list) == 0 or len(my_list) == 1:\n",
    "   # if end-start < k:    \n",
    "        return my_list   \n",
    "   \n",
    "\n",
    "    \n",
    "\n",
    "    \n",
    "\n",
    "    pivot = my_list[end//2]\n",
    "\n",
    "    #move pivot to begining \n",
    "    t = my_list[0]\n",
    "    my_list[0] = my_list[end//2]\n",
    "\n",
    "    my_list[end//2] = t\n",
    "\n",
    "    #print(\"swap\", my_list)\n",
    "    #print(\"p \", pivot)\n",
    "\n",
    "\n",
    "    #lowest from left\n",
    "    left = []\n",
    "    #highest from the right\n",
    "    right = []\n",
    "\n",
    "    #find stuff less than pivot add to left\n",
    "    for i in range (1, end):\n",
    "\n",
    "        if my_list[i] < pivot:\n",
    "            left.append(my_list[i])\n",
    "\n",
    "    #find stuff greater than pivot add to right\n",
    "    for j in range (1, end):\n",
    "\n",
    "        if my_list[j] >= pivot:\n",
    "            right.append(my_list[j])\n",
    "\n",
    "\n",
    "    #pivot not has a spot in list\n",
    "    new_list = quick_sort(left) + [pivot] + quick_sort(right)\n",
    "    #print(\"n= \",left)\n",
    "    final = left + [pivot] + right\n",
    "\n",
    "    #end recursion when sublists are < k\n",
    "    if len(left) < k or len(right) < k:\n",
    "        return final\n",
    "    else:\n",
    "        return new_list\n",
    "\n",
    "\n",
    "    \n",
    "    \n",
    "    \n",
    "\n",
    "##\n",
    "near_sorted = create_custom_list(1000,100)\n",
    "\n",
    "#l2 = [7,2,5,9,0,15,53,12,7,4]\n",
    "\n",
    "print(near_sorted)\n",
    "\n",
    "near_sorted = quick_sort(near_sorted,200)\n",
    "\n",
    "print(near_sorted)\n",
    "unsorted = create_custom_list(1000,100)"
   ]
  },
  {
   "cell_type": "code",
   "execution_count": 118,
   "metadata": {},
   "outputs": [],
   "source": [
    "### Bubble sort experiment code goes here"
   ]
  },
  {
   "cell_type": "code",
   "execution_count": null,
   "metadata": {},
   "outputs": [],
   "source": [
    "### Selection sort experiment code goes here"
   ]
  },
  {
   "cell_type": "code",
   "execution_count": 116,
   "metadata": {},
   "outputs": [
    {
     "name": "stdout",
     "output_type": "stream",
     "text": [
      "NEAR SORTED\n",
      "[4, 2, 2, 0, 5, 0, 4, 6, 4, 4, 1, 4, 6, 0, 5, 0, 1, 6, 2, 3, 5, 3, 5, 1, 4, 0, 2, 4, 4, 0, 4, 5, 1, 5, 6, 3, 1, 0, 5, 3, 3, 5, 4, 0, 5, 4, 0, 5, 0, 3, 4, 5, 4, 3, 1, 5, 0, 2, 1, 0, 5, 0, 4, 5, 1, 2, 2, 5, 3, 4, 0, 7, 80, 67, 36, 54, 9, 42, 50, 83, 40, 63, 10, 26, 33, 89, 23, 39, 60, 52, 11, 77, 48, 80, 96, 15, 18, 23, 79, 20, 56, 21, 21, 76, 55, 42, 59, 92, 12, 44, 65, 12, 96, 19, 17, 26, 45, 95, 17, 94, 39, 22, 69, 22, 95, 91, 18, 32, 41, 7, 52, 44, 37, 12, 84, 60, 90, 19, 9, 98, 26, 16, 63, 86, 92, 56, 21, 25, 18, 88, 31, 65, 61, 74, 46, 90, 16, 9, 97, 97, 100, 87, 48, 96, 77, 80, 71, 46, 88, 12, 97, 69, 23, 91, 24, 88, 43, 41, 19, 43, 100, 59, 14, 86, 90, 12, 75, 52, 82, 36, 59, 27, 88, 21, 56, 84, 41, 58, 98, 72, 72, 82, 15, 19, 10, 80, 44, 42, 65, 81, 43, 35, 52, 99, 23, 26, 83, 40, 36, 74, 93, 9, 18, 86, 67, 7, 25, 68, 91, 84, 72, 18, 15, 79, 34, 88, 89, 99, 93, 75, 74, 93, 42, 80, 30, 14, 48, 74, 9, 47, 14, 51, 96, 76, 9, 64, 17, 18, 53, 55, 50, 85, 92, 69, 50, 87, 60, 75, 54, 56, 81, 67, 49, 90, 77, 57, 96, 27, 75, 17, 77, 51, 78, 11, 95, 78, 18, 23, 32, 45, 96, 13, 44, 91, 96, 74, 39, 24, 86, 51, 12, 46, 47, 24, 39, 93, 85, 72, 49, 96, 34, 11, 19, 81, 8, 65, 44, 17, 75, 33, 32, 29, 86, 28, 42, 81, 19, 14, 34, 99, 90, 100, 16, 60, 72, 13, 70, 75, 35, 93, 44, 38, 88, 38, 66, 84, 49, 71, 31, 67, 72, 51, 14, 92, 70, 40, 52, 61, 82, 86, 25, 66, 97, 77, 14, 92, 29, 78, 23, 80, 32, 28, 69, 72, 38, 72, 63, 89, 30, 61, 82, 69, 85, 34, 64, 63, 57, 16, 15, 10, 75, 52, 14, 46, 62, 40, 16, 93, 26, 86, 96, 9, 84, 58, 32, 61, 64, 96, 93, 98, 16, 17, 100, 37, 44, 38, 45, 32, 50, 19, 50, 84, 71, 37, 76, 99, 22, 74, 8, 64, 42, 20, 19, 65, 66, 45, 69, 17, 52, 74, 100, 50, 11, 86, 17, 23, 98, 63, 97, 59, 81, 62, 13, 65, 37, 13, 87, 57, 64, 83, 92, 47, 24, 53, 78, 64, 63, 57, 51, 11, 64, 41, 97, 76, 54, 68, 66, 51, 78, 17, 97, 96, 90, 12, 66, 30, 13, 47, 40, 83, 7, 65, 44, 71, 59, 94, 44, 70, 43, 80, 75, 77, 33, 61, 72, 79, 20, 78, 83, 24, 36, 26, 65, 20, 23, 8, 47, 13, 75, 55, 67, 18, 48, 82, 72, 71, 25, 63, 79, 48, 68, 31, 73, 10, 74, 86, 86, 68, 89, 70, 85, 49, 26, 56, 88, 13, 51, 7, 79, 85, 11, 8, 46, 42, 56, 61, 92, 78, 22, 95, 90, 38, 19, 25, 24, 77, 51, 95, 26, 35, 23, 85, 46, 79, 76, 95, 33, 32, 50, 21, 67, 32, 46, 47, 16, 28, 79, 10, 93, 38, 53, 37, 95, 41, 18, 51, 51, 88, 66, 87, 83, 70, 32, 78, 77, 46, 7, 32, 55, 17, 19, 75, 23, 40, 20, 52, 71, 32, 64, 87, 84, 34, 10, 52, 28, 65, 72, 25, 71, 49, 25, 67, 56, 81, 79, 16, 81, 93, 43, 53, 12, 34, 85, 25, 82, 10, 55, 28, 53, 46, 74, 87, 13, 95, 15, 59, 42, 91, 81, 77, 44, 53, 92, 77, 17, 86, 21, 57, 86, 62, 27, 21, 38, 32, 65, 84, 29, 77, 83, 49, 31, 76, 78, 93, 22, 36, 29, 22, 85, 63, 76, 88, 70, 11, 93, 10, 20, 25, 52, 63, 49, 36, 28, 20, 45, 38, 41, 91, 64, 47, 80, 81, 92, 42, 54, 23, 34, 7, 55, 81, 62, 78, 31, 60, 8, 63, 90, 81, 31, 14, 58, 44, 31, 78, 99, 22, 15, 95, 56, 17, 97, 48, 49, 97, 47, 23, 80, 50, 38, 70, 14, 48, 53, 44, 99, 96, 90, 36, 34, 8, 92, 81, 10, 35, 89, 9, 86, 39, 52, 8, 89, 49, 9, 9, 59, 44, 45, 50, 100, 52, 13, 56, 91, 7, 55, 29, 30, 60, 45, 73, 60, 75, 18, 81, 30, 91, 7, 71, 90, 30, 13, 87, 57, 54, 54, 70, 89, 93, 91, 88, 62, 48, 13, 95, 10, 18, 29, 57, 47, 49, 51, 12, 65, 88, 29, 28, 98, 39, 50, 10, 51, 80, 32, 84, 37, 12, 15, 93, 97, 55, 54, 15, 28, 79, 54, 50, 64, 85, 51, 78, 40, 58, 29, 64, 80, 42, 83, 71, 87, 29, 26, 98, 7, 52, 22, 42, 34, 24, 15, 38, 33, 89, 71, 78, 7, 56, 44, 14, 17, 16, 8, 15, 71, 78, 55, 73, 43, 39, 96, 92, 91, 30, 59, 10, 66, 43, 89, 42, 93, 70, 90, 81, 41, 75, 32, 92, 47, 62, 64, 97, 38, 87, 55, 37, 70, 58, 21, 44, 96, 51, 57, 11, 97, 10, 79, 51, 47, 49, 33, 25, 97, 28, 88, 98, 24, 27, 93, 9, 72, 15, 12, 42, 9, 50, 33, 63, 60, 100, 8, 42, 79, 25, 89, 14, 57, 96, 66, 17, 76, 27, 91, 44, 97, 48, 68, 72, 75, 54, 99, 100, 94, 14, 94, 82, 92, 95, 71, 45, 27, 41, 11, 53, 77, 38, 34, 67, 60, 20, 83, 39, 84, 76, 90, 67, 26, 51, 43, 16, 73, 22]\n"
     ]
    },
    {
     "data": {
      "image/png": "[encoded data removed]",
      "text/plain": [
       "<Figure size 2000x800 with 1 Axes>"
      ]
     },
     "metadata": {},
     "output_type": "display_data"
    },
    {
     "name": "stdout",
     "output_type": "stream",
     "text": [
      "UNSORTED\n",
      "[41, 22, 40, 75, 93, 25, 18, 5, 70, 17, 53, 27, 23, 61, 91, 23, 80, 23, 62, 54, 32, 24, 57, 61, 47, 59, 83, 68, 65, 81, 63, 34, 69, 81, 22, 19, 31, 16, 51, 82, 91, 14, 28, 78, 47, 66, 56, 24, 9, 88, 55, 32, 4, 72, 37, 19, 60, 69, 12, 91, 12, 34, 53, 52, 6, 41, 19, 29, 85, 71, 8, 38, 32, 88, 69, 0, 85, 3, 45, 72, 13, 74, 18, 74, 94, 41, 33, 68, 52, 97, 25, 49, 0, 67, 17, 56, 31, 82, 42, 93, 72, 55, 99, 100, 54, 40, 28, 94, 93, 19, 57, 70, 72, 64, 44, 49, 62, 63, 60, 26, 12, 8, 44, 37, 10, 3, 76, 70, 65, 62, 40, 61, 1, 31, 87, 22, 48, 30, 66, 36, 79, 47, 33, 29, 65, 53, 34, 20, 63, 29, 73, 51, 84, 20, 85, 64, 71, 91, 3, 20, 51, 90, 56, 52, 7, 96, 99, 66, 62, 41, 69, 98, 61, 70, 92, 50, 89, 54, 21, 92, 2, 98, 96, 45, 27, 36, 28, 52, 50, 9, 71, 90, 76, 23, 30, 93, 81, 82, 83, 25, 86, 58, 82, 23, 33, 8, 36, 58, 41, 100, 7, 76, 39, 6, 76, 4, 97, 78, 56, 39, 83, 15, 20, 34, 32, 77, 14, 2, 39, 65, 61, 21, 100, 79, 75, 5, 71, 59, 8, 94, 6, 48, 45, 36, 90, 6, 96, 27, 50, 77, 85, 34, 31, 75, 72, 10, 78, 25, 60, 87, 37, 17, 99, 9, 56, 27, 63, 9, 1, 79, 55, 99, 64, 71, 38, 16, 12, 31, 58, 39, 93, 9, 4, 94, 61, 73, 36, 63, 45, 54, 100, 71, 34, 34, 67, 17, 7, 28, 87, 72, 63, 84, 99, 58, 6, 36, 9, 66, 75, 58, 81, 26, 68, 5, 40, 65, 76, 69, 64, 4, 17, 54, 62, 88, 93, 92, 5, 20, 17, 28, 22, 82, 84, 5, 48, 14, 78, 58, 48, 24, 23, 39, 94, 71, 81, 18, 25, 95, 67, 29, 24, 73, 65, 4, 53, 14, 55, 71, 28, 58, 92, 65, 10, 87, 44, 68, 21, 81, 58, 92, 66, 80, 49, 44, 47, 2, 4, 96, 12, 58, 80, 64, 27, 50, 27, 85, 84, 7, 61, 15, 3, 0, 5, 21, 19, 16, 80, 78, 54, 84, 48, 11, 56, 63, 62, 62, 89, 71, 69, 3, 94, 46, 66, 90, 26, 68, 62, 85, 47, 95, 61, 0, 38, 60, 7, 39, 54, 0, 91, 12, 54, 30, 71, 55, 90, 60, 44, 87, 39, 80, 36, 10, 33, 49, 50, 55, 13, 66, 31, 100, 12, 92, 77, 37, 18, 85, 49, 58, 32, 60, 40, 46, 0, 32, 61, 28, 52, 70, 61, 41, 41, 77, 69, 32, 12, 82, 26, 5, 52, 48, 82, 48, 5, 48, 76, 23, 2, 22, 87, 96, 92, 80, 89, 53, 62, 98, 61, 37, 97, 68, 68, 23, 13, 22, 66, 63, 27, 40, 19, 60, 64, 53, 28, 97, 87, 83, 1, 74, 61, 9, 88, 7, 1, 71, 93, 12, 89, 43, 65, 55, 29, 39, 36, 70, 84, 49, 75, 43, 12, 39, 47, 37, 33, 84, 76, 12, 74, 42, 93, 83, 71, 21, 67, 24, 99, 15, 87, 94, 8, 53, 2, 2, 11, 34, 3, 69, 50, 45, 8, 78, 8, 23, 41, 8, 50, 39, 56, 19, 82, 9, 73, 43, 8, 11, 26, 27, 61, 94, 16, 17, 56, 66, 12, 9, 46, 58, 98, 20, 81, 5, 73, 13, 84, 60, 10, 91, 15, 18, 52, 90, 77, 68, 32, 10, 24, 68, 97, 97, 46, 43, 75, 43, 83, 73, 1, 48, 53, 44, 85, 53, 44, 24, 25, 82, 39, 7, 50, 36, 65, 40, 26, 66, 97, 80, 8, 52, 63, 45, 74, 79, 74, 22, 18, 0, 71, 82, 97, 47, 92, 80, 29, 0, 81, 10, 88, 68, 19, 69, 65, 85, 23, 3, 100, 61, 73, 70, 1, 45, 57, 90, 4, 58, 65, 54, 55, 57, 86, 82, 70, 26, 71, 36, 79, 36, 3, 20, 13, 60, 13, 45, 96, 66, 52, 4, 83, 1, 72, 26, 38, 53, 33, 100, 30, 38, 87, 11, 31, 77, 19, 42, 41, 98, 12, 54, 76, 9, 49, 28, 50, 52, 47, 65, 82, 35, 45, 42, 0, 49, 78, 88, 97, 30, 84, 39, 95, 76, 83, 66, 36, 93, 62, 28, 29, 98, 81, 82, 35, 6, 55, 43, 16, 44, 62, 64, 25, 5, 51, 64, 39, 73, 71, 93, 0, 23, 66, 8, 28, 14, 6, 8, 4, 12, 76, 78, 9, 51, 70, 90, 6, 52, 4, 87, 78, 91, 68, 41, 8, 5, 75, 81, 62, 41, 94, 98, 100, 40, 77, 52, 92, 58, 67, 15, 13, 49, 93, 15, 12, 2, 60, 36, 77, 33, 44, 99, 90, 69, 77, 57, 29, 23, 39, 53, 49, 35, 82, 42, 0, 13, 40, 8, 10, 67, 32, 88, 98, 63, 100, 75, 62, 62, 37, 74, 99, 41, 85, 83, 37, 36, 94, 67, 79, 13, 4, 72, 54, 52, 82, 71, 99, 26, 94, 82, 64, 99, 65, 85, 7, 86, 33, 17, 14, 33, 27, 24, 46, 88, 41, 17, 15, 14, 6, 76, 74, 19, 9, 63, 63, 17, 29, 88, 59, 46, 16, 91, 2, 15, 90, 4, 47, 80, 86, 61, 89, 72, 76, 47, 4, 2, 44, 53, 85, 40, 56, 81, 46, 47, 34, 48, 56, 61, 42, 88, 83, 51, 9, 22, 91, 84, 84, 40, 28, 10, 53, 18, 99, 0, 34, 18, 81, 96, 99, 86, 27, 96, 57, 2, 91, 0, 22, 18, 71, 50, 60, 14, 38, 98, 36, 59, 63, 27, 80, 10, 80, 18, 14, 44, 44, 81, 15, 61, 77, 17, 64, 46, 39, 50, 54, 26, 28, 91, 51, 67, 27, 32, 24, 28, 75, 76, 24, 16]\n"
     ]
    },
    {
     "data": {
      "image/png": "[encoded data removed]",
      "text/plain": [
       "<Figure size 2000x800 with 1 Axes>"
      ]
     },
     "metadata": {},
     "output_type": "display_data"
    }
   ],
   "source": [
    "### Insertion sort experiment code goes here\n",
    "\n",
    "runs = 200#random.randint(76,500)\n",
    "run_times1= []\n",
    "run_times2= []\n",
    "#l = create_custom_list(77,100)\n",
    "print(\"NEAR SORTED\")\n",
    "print(near_sorted)\n",
    "\n",
    "for i in range(runs):\n",
    "    list1 = InsertionSort(near_sorted)\n",
    "    start = timeit.default_timer()\n",
    "    found = list1.get_sorted()\n",
    "    stop = timeit.default_timer()\n",
    "    run_times1.append(stop-start)\n",
    "\n",
    "draw_plot(run_times1)\n",
    "\n",
    "print(\"UNSORTED\")\n",
    "print(unsorted)\n",
    "\n",
    "for j in range(runs):\n",
    "    list1 = InsertionSort(unsorted)\n",
    "    start = timeit.default_timer()\n",
    "    found2 = list1.get_sorted()\n",
    "    stop = timeit.default_timer()\n",
    "    run_times2.append(stop-start)\n",
    "\n",
    "\n",
    "draw_plot(run_times2)"
   ]
  },
  {
   "cell_type": "markdown",
   "metadata": {},
   "source": [
    "Describe you observations here. Which algorithm performs best / worst for sorted/near sorted lists and why? Does the performance vary significantly? Describe which runs times were higher and why do you think that is? You woul\n",
    "\n",
    "**Reflection** :"
   ]
  },
  {
   "cell_type": "markdown",
   "metadata": {},
   "source": [
    "---\n",
    "---"
   ]
  },
  {
   "cell_type": "markdown",
   "metadata": {},
   "source": [
    "### Part B"
   ]
  },
  {
   "cell_type": "markdown",
   "metadata": {},
   "source": [
    "In the class, we discussed three implementations of Binary Search. "
   ]
  },
  {
   "cell_type": "code",
   "execution_count": 2,
   "metadata": {},
   "outputs": [],
   "source": [
    "def binary_search_1(item_list, to_find):\n",
    "    lower=0\n",
    "    upper=len(item_list)-1\n",
    "    while lower < upper:\n",
    "        mid = (lower+upper)//2\n",
    "        if item_list[mid] == to_find:\n",
    "            return True\n",
    "        if item_list[mid] < to_find:\n",
    "            lower = mid+1\n",
    "        else:\n",
    "            upper=mid\n",
    "    return item_list[lower]==to_find"
   ]
  },
  {
   "cell_type": "code",
   "execution_count": 3,
   "metadata": {},
   "outputs": [],
   "source": [
    "def binary_search_2(item_list, to_find):\n",
    "    lower=0\n",
    "    upper=len(item_list)-1\n",
    "    while lower <= upper:\n",
    "        mid = (lower+upper)//2\n",
    "        if item_list[mid] == to_find:\n",
    "            return True\n",
    "        if item_list[mid] < to_find:\n",
    "            lower = mid+1\n",
    "        else:\n",
    "            upper=mid-1\n",
    "    return item_list[lower]==to_find"
   ]
  },
  {
   "cell_type": "code",
   "execution_count": null,
   "metadata": {},
   "outputs": [],
   "source": [
    "def binary_search_3(item_list, to_find):\n",
    "    left=0\n",
    "    right=len(item_list)-1\n",
    "    while left != right:\n",
    "        mid = (left+right)//2\n",
    "        if item_list[mid] < to_find:\n",
    "            left = mid+1\n",
    "        elif item_list[mid] > to_find:\n",
    "            right = mid\n",
    "        else:\n",
    "            return True\n",
    "    return item_list[left]==to_find"
   ]
  },
  {
   "cell_type": "markdown",
   "metadata": {},
   "source": [
    "Compare the performance of each implementation (or variation) with two lists:\n",
    "\n",
    "1. List is odd numbered (minimum 1000 integers)\n",
    "1. List is even numbered (minimum 1000 integers)\n",
    "\n",
    "Run the above experiments when the item to be found is:\n",
    "1. At the begining of the list.\n",
    "1. Towards the end of the list.\n",
    "1. Right at the middle of the list.\n",
    "\n",
    "The above three combinations would yield 3X2 experiments. Provide detailed outline of the experiments, plots, and a brief description of the observations in the reflections section."
   ]
  },
  {
   "cell_type": "code",
   "execution_count": null,
   "metadata": {},
   "outputs": [],
   "source": [
    "## you experiment code goes here"
   ]
  },
  {
   "cell_type": "markdown",
   "metadata": {},
   "source": [
    "**Reflection**:"
   ]
  },
  {
   "cell_type": "markdown",
   "metadata": {},
   "source": [
    "---\n",
    "---"
   ]
  },
  {
   "cell_type": "markdown",
   "metadata": {},
   "source": [
    "### Part C"
   ]
  },
  {
   "cell_type": "markdown",
   "metadata": {},
   "source": [
    "Recall that I discussed in the class, the possibility of \"reducing the comparisons\" in Binary Search implementation. One solution came up is to remove the comparison with \"mid\". If you design an experiment to test this, you will soon realize that while this speeds up the execution time by reducing the number of comparisons needed, it fails when the element to be searched is right in the middle.  So are there any ways to improve the speed of Binary Search that is not dependent on data? The answer is recursion! In this section, implement a Binary Search recursively."
   ]
  },
  {
   "cell_type": "code",
   "execution_count": 4,
   "metadata": {},
   "outputs": [],
   "source": [
    "def binary_search_4(item_list, to_find):\n",
    "    return False"
   ]
  },
  {
   "cell_type": "markdown",
   "metadata": {},
   "source": [
    "Run all the experiments in Part B comapring all 4 implementations under all 6 cases. Plot the timings, and describe the results in the below section. Write a short description of your observation; why is recursion better in this case?"
   ]
  },
  {
   "cell_type": "code",
   "execution_count": null,
   "metadata": {},
   "outputs": [],
   "source": [
    "# your implementation and experiments go here."
   ]
  },
  {
   "cell_type": "markdown",
   "metadata": {},
   "source": [
    "##### Result Discussion:"
   ]
  },
  {
   "cell_type": "markdown",
   "metadata": {},
   "source": [
    "---\n",
    "---"
   ]
  },
  {
   "cell_type": "markdown",
   "metadata": {},
   "source": [
    "### PART D"
   ]
  },
  {
   "cell_type": "markdown",
   "metadata": {},
   "source": [
    "Now that you are comfortable in designing experiments, in this section, use the implementations of **Heap**, **Merge**, and **Quick** sort discussed in class and run suitable experiments to compare the runtimes of these three algorithms. \n",
    "\n",
    "Hint: it should become clear where Quick sort gets its name."
   ]
  },
  {
   "cell_type": "code",
   "execution_count": null,
   "metadata": {},
   "outputs": [],
   "source": [
    "# your implementation and experiments go here."
   ]
  },
  {
   "cell_type": "markdown",
   "metadata": {},
   "source": [
    "In this section, provide a detailed outline of:\n",
    "- The experiments you ran, length values of the list you chose, number of runs, etc.\n",
    "- The plots showing the run times corresponding to each algorithm.\n",
    "- A brief discussion and conclusion regarding the results. A few sentences are fine here."
   ]
  },
  {
   "cell_type": "markdown",
   "metadata": {},
   "source": [
    "---\n",
    "---"
   ]
  },
  {
   "cell_type": "markdown",
   "metadata": {},
   "source": [
    "### PART E"
   ]
  },
  {
   "cell_type": "markdown",
   "metadata": {},
   "source": [
    "E1. In previous experiments you also saw that not all algorithms are suitable for all scenarios. For instance, Merge Sort is better than Quick sort for certain situations. In this section, design a experiment to compare the scenarios where Merge Sort is better/worse than Quick Sort. You can use the traditional version of Merge Sort or use improved version ( maybe via recursion) to compare this performance."
   ]
  },
  {
   "cell_type": "code",
   "execution_count": null,
   "metadata": {},
   "outputs": [],
   "source": [
    "# your implementation and experiments go here."
   ]
  },
  {
   "cell_type": "markdown",
   "metadata": {},
   "source": [
    "In this section, provide a detailed outline of:\n",
    "- The experiments you ran, length values of the list you chose, number of runs, etc.\n",
    "- The plots showing the run times corresponding to each algorithm.\n",
    "- A brief discussion and conclusion regarding the results. A few sentences are fine here."
   ]
  },
  {
   "cell_type": "markdown",
   "metadata": {},
   "source": [
    "---"
   ]
  },
  {
   "cell_type": "markdown",
   "metadata": {},
   "source": [
    "E2. Recall that on the first day of class I asked which two algorithms have similar complexity - Merge Sort and Quick Sort under (O(nlogn)) are likely to perform similar under average cases. However, under worst case, the complexity of quick sort is much worse (O(n^2). Design an experiment to show this behavior. Plot this behavior on a bar/line chart. \n",
    "\n",
    "Next, count the number of \"swaps\" after which Quick sort starts behaving comparable to Merge sort. \n",
    "\n",
    "HINT: This will be a threshold at which the quick sort algorithm picks up again.\n"
   ]
  },
  {
   "cell_type": "code",
   "execution_count": 1,
   "metadata": {},
   "outputs": [],
   "source": [
    "## your implementation and code goes here"
   ]
  },
  {
   "cell_type": "markdown",
   "metadata": {},
   "source": [
    "In this section, provide a detailed outline of:\n",
    "- The experiments you ran and the rationale behind your worst case scenario.\n",
    "- The plots showing the run times.\n",
    "\n",
    "Further explain how you computed the swaps and verify that you calculation is correct, by applying it on a diifferent list under same experimental conditions."
   ]
  },
  {
   "cell_type": "markdown",
   "metadata": {},
   "source": [
    "**Reflection**:"
   ]
  },
  {
   "cell_type": "markdown",
   "metadata": {},
   "source": [
    "---\n",
    "---"
   ]
  },
  {
   "cell_type": "markdown",
   "metadata": {},
   "source": [
    "### PART F"
   ]
  },
  {
   "cell_type": "markdown",
   "metadata": {},
   "source": [
    "Traditionally, Insertion Sort is worst than Heap Sort and Merge Sort. Now that you are a master at critical evaluation of sorting and searching algorithms, design an experiment to show that this may not be universally true. That is, there maybe scenarios where insertion sort is better than merge and heap sort.\n",
    "\n",
    "HINT: Think about the Best Case of insertion sort.\n",
    "\n",
    "Again, provide:\n",
    "- An explicit outline of the experiments you ran. That is, list length values, how many “runs”, etc.\n",
    "- A graph of list length vs time displaying the appropriate three curves showing. List lengths should be small here.\n",
    "- A brief discussion and conclusion regarding the results. A few sentences are fine here.\n",
    "- Reflect on why these are experiments are important. \n",
    "\n",
    "HINT: Can you create some sort of \"hybrid\" sort that would be better?"
   ]
  },
  {
   "cell_type": "code",
   "execution_count": null,
   "metadata": {},
   "outputs": [],
   "source": [
    "## your implementation and code goes here"
   ]
  },
  {
   "cell_type": "markdown",
   "metadata": {},
   "source": [
    "**Reflection**:"
   ]
  },
  {
   "cell_type": "markdown",
   "metadata": {},
   "source": [
    "---\n",
    "---"
   ]
  },
  {
   "cell_type": "markdown",
   "metadata": {},
   "source": [
    "**Team Contributions**: In below section describe in detail how you distributed the workload and contributions of each member in the task."
   ]
  },
  {
   "cell_type": "markdown",
   "metadata": {},
   "source": []
  },
  {
   "cell_type": "markdown",
   "metadata": {},
   "source": [
    "---\n",
    "---"
   ]
  },
  {
   "cell_type": "markdown",
   "metadata": {},
   "source": []
  }
 ],
 "metadata": {
  "kernelspec": {
   "display_name": "Python 3 (ipykernel)",
   "language": "python",
   "name": "python3"
  },
  "language_info": {
   "codemirror_mode": {
    "name": "ipython",
    "version": 3
   },
   "file_extension": ".py",
   "mimetype": "text/x-python",
   "name": "python",
   "nbconvert_exporter": "python",
   "pygments_lexer": "ipython3",
   "version": "3.9.13"
  }
 },
 "nbformat": 4,
 "nbformat_minor": 2
}
