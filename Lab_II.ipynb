{
 "cells": [
  {
   "cell_type": "markdown",
   "metadata": {},
   "source": [
    "# Computer Science 2XC3 - Graded Lab II"
   ]
  },
  {
   "cell_type": "markdown",
   "metadata": {},
   "source": [
    "In this day and age, it is very easy to generate automated solutions to any problem, not necessarily becuase of AI, but because of vast online communities that exist to find solution to popular/common problems. Whether or not that solution is correct and applicable to our context,  can be assessed only if we understand the concepts and can critically evaluate them. The goal of this lab is to motivate you to not only produce the correct solution to problems, but also to reflect about why, how and when your solution will likely succeed/fail. \n",
    "\n",
    "In this lab you will design experiments with sorting and search algorithms. Please read all instructions carefully. Seek the help of TA's if you need clarifications on the task. Do not hard code any results."
   ]
  },
  {
   "cell_type": "code",
   "execution_count": 14,
   "metadata": {},
   "outputs": [],
   "source": [
    "import random\n",
    "import time\n",
    "import timeit \n",
    "import matplotlib.pyplot as plt\n",
    "import numpy as np"
   ]
  },
  {
   "cell_type": "markdown",
   "metadata": {},
   "source": [
    "---\n",
    "---"
   ]
  },
  {
   "cell_type": "markdown",
   "metadata": {},
   "source": [
    "### Part A"
   ]
  },
  {
   "cell_type": "markdown",
   "metadata": {},
   "source": [
    "##### A1. Implement three classes with the following sorting algorithms:\n",
    "- Bubble Sort\n",
    "- Insertion Sort\n",
    "- Selection Sort"
   ]
  },
  {
   "cell_type": "code",
   "execution_count": null,
   "metadata": {},
   "outputs": [],
   "source": [
    "class BubbleSort:\n",
    "    def __init__(self, items_to_sort):\n",
    "        self.items = items_to_sort\n",
    "        self.sorted_items=[]\n",
    "\n",
    "       ### your implementation for bubble sort goes here \n",
    "\n",
    "    def get_sorted(self,):\n",
    "        return self.sorted_items"
   ]
  },
  {
   "cell_type": "code",
   "execution_count": 15,
   "metadata": {},
   "outputs": [],
   "source": [
    "class InsertionSort:\n",
    "    def __init__(self, items_to_sort):\n",
    "        self.items = items_to_sort\n",
    "        self.sorted_items=[]\n",
    "\n",
    "       ### your implementation for insertion sort goes here \n",
    "\n",
    "    def get_sorted(self,):\n",
    "        return self.sorted_items"
   ]
  },
  {
   "cell_type": "code",
   "execution_count": 11,
   "metadata": {},
   "outputs": [
    {
     "name": "stdout",
     "output_type": "stream",
     "text": [
      "[8, 8, 65, 84, 19]\n",
      "[8, 8, 19, 65, 84]\n"
     ]
    }
   ],
   "source": [
    "class SelectionSort:\n",
    "    def __init__(self, items_to_sort):\n",
    "        self.items = items_to_sort\n",
    "        self.sorted_items=[]\n",
    "#\n",
    "    def get_sorted(self):\n",
    "        for i in range(len(self.items)-1):\n",
    "            min_index = i\n",
    "            for j in range(i+1, len(self.items)):\n",
    "                if self.items[j] < self.items[min_index]:\n",
    "                    min_index = j\n",
    "            if i != min_index:\n",
    "                temp = self.items[i]\n",
    "                self.items[i] = self.items[min_index]\n",
    "                self.items[min_index] = temp\n",
    "            self.sorted_items = self.items\n",
    "\n",
    "    #def get_sorted(self):\n",
    "        return self.sorted_items\n",
    "    \n",
    "#test\n",
    "list = []\n",
    "\n",
    "for i in range (5,10):\n",
    "    list.append(random.randint(0,100))\n",
    "\n",
    "l = SelectionSort(list)\n",
    "print(list)\n",
    "l2 = l.get_sorted()\n",
    "print(l2)"
   ]
  },
  {
   "cell_type": "markdown",
   "metadata": {},
   "source": [
    "___"
   ]
  },
  {
   "cell_type": "markdown",
   "metadata": {},
   "source": [
    "##### A2. Compute the performance of above 3 algorithms on a single list of real numbers.\n",
    "\n",
    "First generate a custom random list using function <code> create_custom_list()</code>. Execute each of the above algorithm for N trials ( select N >= 75) on the list and plot the timing of each execution on a bar chart. Also calculate the average execution time for the entire batch of N trials ( you can either display it on the chart or simply <code> print()</code> it). For larger values of N, consider breaking N trials into mini batches of n executions and plotting execution times for each mini batch. For instance, if you select N=1000, to plot execution timings for 1000 trials, you may break them into mini batch of n=10 trials and display average of each mini batch. This will reduce clutter in your bar charts while still enabling you to perform extensive testing with higher N.\n",
    "\n",
    "Execute each of the above algorithm on the same set of integers. The outcome of your code should be 3 charts for each algorithm run on your list N times. Few utility functions are given below. You do not have to necessarily use the <code> draw_plot()</code> function. You can plot your timings using an excel sheet and paste the image of your timings here. Refer to [Markdown Guide](https://www.markdownguide.org/basic-syntax/) on how to add images in the jupyter notebook or ask your TA."
   ]
  },
  {
   "cell_type": "code",
   "execution_count": 16,
   "metadata": {},
   "outputs": [],
   "source": [
    "def create_custom_list(length, max_value, item=None, item_index=None):\n",
    "    random_list = [random.randint(0,max_value) for i in range(length)]\n",
    "    if item!= None:\n",
    "        random_list.insert(item_index,item)\n",
    "    return random_list"
   ]
  },
  {
   "cell_type": "code",
   "execution_count": 17,
   "metadata": {},
   "outputs": [],
   "source": [
    "def draw_plot(run_arr):\n",
    "    x = np.arange(0, len(run_arr),1)\n",
    "    fig=plt.figure(figsize=(20,8))\n",
    "    plt.bar(x,run_arr)\n",
    "    plt.axhline(np.mean(run_arr),color=\"red\",linestyle=\"--\",label=\"Avg\")\n",
    "    plt.xlabel(\"Iterations\")\n",
    "    plt.ylabel(\"Run time in ms order of 1e-6\")\n",
    "    plt.title(\"Run time for retrieval\")\n",
    "    plt.show()"
   ]
  },
  {
   "cell_type": "code",
   "execution_count": 5,
   "metadata": {},
   "outputs": [],
   "source": [
    "### Bubble sort experiment code goes here"
   ]
  },
  {
   "cell_type": "code",
   "execution_count": 6,
   "metadata": {},
   "outputs": [],
   "source": [
    "### Insertion sort experiment code goes here"
   ]
  },
  {
   "cell_type": "code",
   "execution_count": 18,
   "metadata": {},
   "outputs": [
    {
     "name": "stdout",
     "output_type": "stream",
     "text": [
      "[15, 73, 26, 86, 48, 36, 91, 13, 3, 13, 2, 98, 90, 66, 34, 19, 8, 5, 60, 76, 34, 20, 85, 80, 86, 55, 80, 5, 6, 17, 57, 99, 31, 25, 100, 5, 69, 87, 75, 20, 10, 5, 76, 75, 7, 29, 49, 44, 82, 42, 64, 89, 77, 83, 72, 55, 58, 26, 51, 61, 16, 53, 70, 84, 83, 42, 97, 17, 80, 93, 3, 24, 16, 53, 77, 82, 43]\n",
      "[2, 3, 3, 5, 5, 5, 5, 6, 7, 8, 10, 13, 13, 15, 16, 16, 17, 17, 19, 20, 20, 24, 25, 26, 26, 29, 31, 34, 34, 36, 42, 42, 43, 44, 48, 49, 51, 53, 53, 55, 55, 57, 58, 60, 61, 64, 66, 69, 70, 72, 73, 75, 75, 76, 76, 77, 77, 80, 80, 80, 82, 82, 83, 83, 84, 85, 86, 86, 87, 89, 90, 91, 93, 97, 98, 99, 100]\n"
     ]
    },
    {
     "data": {
      "image/png": "[encoded data removed]",
      "text/plain": [
       "<Figure size 1440x576 with 1 Axes>"
      ]
     },
     "metadata": {
      "needs_background": "light"
     },
     "output_type": "display_data"
    }
   ],
   "source": [
    "### Selection sort experiment code goes here\n",
    "### Selection sort experiment code goes here\n",
    "\n",
    "runs = random.randint(76,500)\n",
    "run_times = []\n",
    "l = create_custom_list(77,100)\n",
    "print(l)\n",
    "for i in range(runs):\n",
    "    list = SelectionSort(l)\n",
    "    start = timeit.default_timer()\n",
    "    found = list.get_sorted()\n",
    "    stop = timeit.default_timer()\n",
    "    run_times.append(stop-start)\n",
    "print(found)\n",
    "draw_plot(run_times)"
   ]
  },
  {
   "cell_type": "markdown",
   "metadata": {},
   "source": [
    "You would notice that certain sorting algorithms have better time complexity (or performance) than others. Write below a reflection of your observations. Can you confidently compare the performance across the 3 algorithms? Why does certain algorithm perform better than the other? What are the various factors impacting the best performing and the worst performing algorithm. Write a few sentences answering each of the above questions. Also describe any other observation you found important.\n",
    "\n",
    "**Reflection**:\n"
   ]
  },
  {
   "cell_type": "markdown",
   "metadata": {},
   "source": [
    "---"
   ]
  },
  {
   "cell_type": "markdown",
   "metadata": {},
   "source": [
    "##### A3. Compute the performance of above 3 algorithms on a different list sizes.\n",
    "\n",
    "The <code> create_custom_list()</code> helps you create lists of varying lengths and range of numbers. Plot a **line chart** that shows the performance of each algorithm on different list sizes ranging between 1 - 100,000 integers. If you think about this question, you are essentially plotting the time complexity on various list sizes. "
   ]
  },
  {
   "cell_type": "code",
   "execution_count": 20,
   "metadata": {},
   "outputs": [],
   "source": [
    "def line_plot(run_arr):\n",
    "    x = np.arange(0, len(run_arr),1)\n",
    "    fig=plt.figure(figsize=(20,8))\n",
    "    plt.plot(x,run_arr)\n",
    "   # plt.axhline(np.mean(run_arr),color=\"red\",linestyle=\"--\",label=\"Avg\")\n",
    "    plt.xlabel(\"Iterations\")\n",
    "    plt.ylabel(\"Run time in ms order of 1e-6\")\n",
    "    plt.title(\"Run time for retrieval\")\n",
    "    plt.show()\n",
    "\n",
    "#print(np.arange(0,10,1))"
   ]
  },
  {
   "cell_type": "code",
   "execution_count": null,
   "metadata": {},
   "outputs": [],
   "source": [
    "### Bubble sort experiment code goes here"
   ]
  },
  {
   "cell_type": "code",
   "execution_count": null,
   "metadata": {},
   "outputs": [],
   "source": [
    "### Insertion sort experiment code goes here"
   ]
  },
  {
   "cell_type": "code",
   "execution_count": 21,
   "metadata": {},
   "outputs": [
    {
     "name": "stdout",
     "output_type": "stream",
     "text": [
      "times= [5.616393173113465e-07, 0.003074197538662702, 0.011920224121713546, 0.027149578440294135, 0.04802018578047864]\n"
     ]
    },
    {
     "data": {
      "image/png": "[encoded data removed]",
      "text/plain": [
       "<Figure size 1440x576 with 1 Axes>"
      ]
     },
     "metadata": {
      "needs_background": "light"
     },
     "output_type": "display_data"
    }
   ],
   "source": [
    "### Selection sort experiment code goes here\n",
    "runs = 50\n",
    "run_times = []\n",
    "\n",
    "#print(l)\n",
    "for i in range(1,1000,200):\n",
    "    l = create_custom_list(i,100)\n",
    "    avg =0 \n",
    "    #find avg for each length of list\n",
    "    for j in range(runs):\n",
    "        selection = SelectionSort(l)\n",
    "        start = timeit.default_timer()\n",
    "        selection.get_sorted()\n",
    "        stop = timeit.default_timer()\n",
    "        avg += (stop-start)\n",
    "    run_times.append(avg / runs)\n",
    "print(\"times=\",run_times)\n",
    "line_plot(run_times)"
   ]
  },
  {
   "cell_type": "markdown",
   "metadata": {},
   "source": [
    "Describe you results here. What did you observe when comparing the charts? Which algorithm was more performant and why?\n",
    "\n",
    "**Reflection** :"
   ]
  },
  {
   "cell_type": "markdown",
   "metadata": {},
   "source": [
    "---"
   ]
  },
  {
   "cell_type": "markdown",
   "metadata": {},
   "source": [
    "##### A4. Compute the performance of above 3 algorithms on a different list \"states\".\n",
    "\n",
    "Using the same above list generation function (or writing a function of your own), create two different lists states: \n",
    "\n",
    "- A state where the list is **near** sorted.\n",
    "- A state where the list is completely unsorted.\n",
    "\n",
    "HINTS: \n",
    "\n",
    "- You can implement a \"controlled\" Quicksort algorithm for such a function. While you can find many implementations of such a function online, significant number of those solutions originate from this psuedocode [Generating Sorted Lists of Random Numbers](https://dl.acm.org/doi/pdf/10.1145/355900.355907). \n",
    "\n",
    "- You can modify the list generation code given above to create the above list examples.\n",
    "\n",
    "Compare the performance of all 3 sorting algorithms on these two lists. Plot their performance on bar chart and display them here. "
   ]
  },
  {
   "cell_type": "code",
   "execution_count": null,
   "metadata": {},
   "outputs": [],
   "source": [
    "### Bubble sort experiment code goes here"
   ]
  },
  {
   "cell_type": "code",
   "execution_count": null,
   "metadata": {},
   "outputs": [],
   "source": [
    "### Selection sort experiment code goes here"
   ]
  },
  {
   "cell_type": "code",
   "execution_count": null,
   "metadata": {},
   "outputs": [],
   "source": [
    "### Insertion sort experiment code goes here"
   ]
  },
  {
   "cell_type": "markdown",
   "metadata": {},
   "source": [
    "Describe you observations here. Which algorithm performs best / worst for sorted/near sorted lists and why? Does the performance vary significantly? Describe which runs times were higher and why do you think that is? You woul\n",
    "\n",
    "**Reflection** :"
   ]
  },
  {
   "cell_type": "markdown",
   "metadata": {},
   "source": [
    "---\n",
    "---"
   ]
  },
  {
   "cell_type": "markdown",
   "metadata": {},
   "source": [
    "### Part B"
   ]
  },
  {
   "cell_type": "markdown",
   "metadata": {},
   "source": [
    "In the class, we discussed three implementations of Binary Search. "
   ]
  },
  {
   "cell_type": "code",
   "execution_count": 2,
   "metadata": {},
   "outputs": [],
   "source": [
    "def binary_search_1(item_list, to_find):\n",
    "    lower=0\n",
    "    upper=len(item_list)-1\n",
    "    while lower < upper:\n",
    "        mid = (lower+upper)//2\n",
    "        if item_list[mid] == to_find:\n",
    "            return True\n",
    "        if item_list[mid] < to_find:\n",
    "            lower = mid+1\n",
    "        else:\n",
    "            upper=mid\n",
    "    return item_list[lower]==to_find"
   ]
  },
  {
   "cell_type": "code",
   "execution_count": 3,
   "metadata": {},
   "outputs": [],
   "source": [
    "def binary_search_2(item_list, to_find):\n",
    "    lower=0\n",
    "    upper=len(item_list)-1\n",
    "    while lower <= upper:\n",
    "        mid = (lower+upper)//2\n",
    "        if item_list[mid] == to_find:\n",
    "            return True\n",
    "        if item_list[mid] < to_find:\n",
    "            lower = mid+1\n",
    "        else:\n",
    "            upper=mid-1\n",
    "    return item_list[lower]==to_find"
   ]
  },
  {
   "cell_type": "code",
   "execution_count": null,
   "metadata": {},
   "outputs": [],
   "source": [
    "def binary_search_3(item_list, to_find):\n",
    "    left=0\n",
    "    right=len(item_list)-1\n",
    "    while left != right:\n",
    "        mid = (left+right)//2\n",
    "        if item_list[mid] < to_find:\n",
    "            left = mid+1\n",
    "        elif item_list[mid] > to_find:\n",
    "            right = mid\n",
    "        else:\n",
    "            return True\n",
    "    return item_list[left]==to_find"
   ]
  },
  {
   "cell_type": "markdown",
   "metadata": {},
   "source": [
    "Compare the performance of each implementation (or variation) with two lists:\n",
    "\n",
    "1. List is odd numbered (minimum 1000 integers)\n",
    "1. List is even numbered (minimum 1000 integers)\n",
    "\n",
    "Run the above experiments when the item to be found is:\n",
    "1. At the begining of the list.\n",
    "1. Towards the end of the list.\n",
    "1. Right at the middle of the list.\n",
    "\n",
    "The above three combinations would yield 3X2 experiments. Provide detailed outline of the experiments, plots, and a brief description of the observations in the reflections section."
   ]
  },
  {
   "cell_type": "code",
   "execution_count": null,
   "metadata": {},
   "outputs": [],
   "source": [
    "## you experiment code goes here"
   ]
  },
  {
   "cell_type": "markdown",
   "metadata": {},
   "source": [
    "**Reflection**:"
   ]
  },
  {
   "cell_type": "markdown",
   "metadata": {},
   "source": [
    "---\n",
    "---"
   ]
  },
  {
   "cell_type": "markdown",
   "metadata": {},
   "source": [
    "### Part C"
   ]
  },
  {
   "cell_type": "markdown",
   "metadata": {},
   "source": [
    "Recall that I discussed in the class, the possibility of \"reducing the comparisons\" in Binary Search implementation. One solution came up is to remove the comparison with \"mid\". If you design an experiment to test this, you will soon realize that while this speeds up the execution time by reducing the number of comparisons needed, it fails when the element to be searched is right in the middle.  So are there any ways to improve the speed of Binary Search that is not dependent on data? The answer is recursion! In this section, implement a Binary Search recursively."
   ]
  },
  {
   "cell_type": "code",
   "execution_count": 4,
   "metadata": {},
   "outputs": [],
   "source": [
    "def binary_search_4(item_list, to_find):\n",
    "    return False"
   ]
  },
  {
   "cell_type": "markdown",
   "metadata": {},
   "source": [
    "Run all the experiments in Part B comapring all 4 implementations under all 6 cases. Plot the timings, and describe the results in the below section. Write a short description of your observation; why is recursion better in this case?"
   ]
  },
  {
   "cell_type": "code",
   "execution_count": null,
   "metadata": {},
   "outputs": [],
   "source": [
    "# your implementation and experiments go here."
   ]
  },
  {
   "cell_type": "markdown",
   "metadata": {},
   "source": [
    "##### Result Discussion:"
   ]
  },
  {
   "cell_type": "markdown",
   "metadata": {},
   "source": [
    "---\n",
    "---"
   ]
  },
  {
   "cell_type": "markdown",
   "metadata": {},
   "source": [
    "### PART D"
   ]
  },
  {
   "cell_type": "markdown",
   "metadata": {},
   "source": [
    "Now that you are comfortable in designing experiments, in this section, use the implementations of **Heap**, **Merge**, and **Quick** sort discussed in class and run suitable experiments to compare the runtimes of these three algorithms. \n",
    "\n",
    "Hint: it should become clear where Quick sort gets its name."
   ]
  },
  {
   "cell_type": "code",
   "execution_count": null,
   "metadata": {},
   "outputs": [],
   "source": [
    "# your implementation and experiments go here."
   ]
  },
  {
   "cell_type": "markdown",
   "metadata": {},
   "source": [
    "In this section, provide a detailed outline of:\n",
    "- The experiments you ran, length values of the list you chose, number of runs, etc.\n",
    "- The plots showing the run times corresponding to each algorithm.\n",
    "- A brief discussion and conclusion regarding the results. A few sentences are fine here."
   ]
  },
  {
   "cell_type": "markdown",
   "metadata": {},
   "source": [
    "---\n",
    "---"
   ]
  },
  {
   "cell_type": "markdown",
   "metadata": {},
   "source": [
    "### PART E"
   ]
  },
  {
   "cell_type": "markdown",
   "metadata": {},
   "source": [
    "E1. In previous experiments you also saw that not all algorithms are suitable for all scenarios. For instance, Merge Sort is better than Quick sort for certain situations. In this section, design a experiment to compare the scenarios where Merge Sort is better/worse than Quick Sort. You can use the traditional version of Merge Sort or use improved version ( maybe via recursion) to compare this performance."
   ]
  },
  {
   "cell_type": "code",
   "execution_count": null,
   "metadata": {},
   "outputs": [],
   "source": [
    "# your implementation and experiments go here."
   ]
  },
  {
   "cell_type": "markdown",
   "metadata": {},
   "source": [
    "In this section, provide a detailed outline of:\n",
    "- The experiments you ran, length values of the list you chose, number of runs, etc.\n",
    "- The plots showing the run times corresponding to each algorithm.\n",
    "- A brief discussion and conclusion regarding the results. A few sentences are fine here."
   ]
  },
  {
   "cell_type": "markdown",
   "metadata": {},
   "source": [
    "---"
   ]
  },
  {
   "cell_type": "markdown",
   "metadata": {},
   "source": [
    "E2. Recall that on the first day of class I asked which two algorithms have similar complexity - Merge Sort and Quick Sort under (O(nlogn)) are likely to perform similar under average cases. However, under worst case, the complexity of quick sort is much worse (O(n^2). Design an experiment to show this behavior. Plot this behavior on a bar/line chart. \n",
    "\n",
    "Next, count the number of \"swaps\" after which Quick sort starts behaving comparable to Merge sort. \n",
    "\n",
    "HINT: This will be a threshold at which the quick sort algorithm picks up again.\n"
   ]
  },
  {
   "cell_type": "code",
   "execution_count": 1,
   "metadata": {},
   "outputs": [],
   "source": [
    "## your implementation and code goes here"
   ]
  },
  {
   "cell_type": "markdown",
   "metadata": {},
   "source": [
    "In this section, provide a detailed outline of:\n",
    "- The experiments you ran and the rationale behind your worst case scenario.\n",
    "- The plots showing the run times.\n",
    "\n",
    "Further explain how you computed the swaps and verify that you calculation is correct, by applying it on a diifferent list under same experimental conditions."
   ]
  },
  {
   "cell_type": "markdown",
   "metadata": {},
   "source": [
    "**Reflection**:"
   ]
  },
  {
   "cell_type": "markdown",
   "metadata": {},
   "source": [
    "---\n",
    "---"
   ]
  },
  {
   "cell_type": "markdown",
   "metadata": {},
   "source": [
    "### PART F"
   ]
  },
  {
   "cell_type": "markdown",
   "metadata": {},
   "source": [
    "Traditionally, Insertion Sort is worst than Heap Sort and Merge Sort. Now that you are a master at critical evaluation of sorting and searching algorithms, design an experiment to show that this may not be universally true. That is, there maybe scenarios where insertion sort is better than merge and heap sort.\n",
    "\n",
    "HINT: Think about the Best Case of insertion sort.\n",
    "\n",
    "Again, provide:\n",
    "- An explicit outline of the experiments you ran. That is, list length values, how many “runs”, etc.\n",
    "- A graph of list length vs time displaying the appropriate three curves showing. List lengths should be small here.\n",
    "- A brief discussion and conclusion regarding the results. A few sentences are fine here.\n",
    "- Reflect on why these are experiments are important. \n",
    "\n",
    "HINT: Can you create some sort of \"hybrid\" sort that would be better?"
   ]
  },
  {
   "cell_type": "code",
   "execution_count": null,
   "metadata": {},
   "outputs": [],
   "source": [
    "## your implementation and code goes here"
   ]
  },
  {
   "cell_type": "markdown",
   "metadata": {},
   "source": [
    "**Reflection**:"
   ]
  },
  {
   "cell_type": "markdown",
   "metadata": {},
   "source": [
    "---\n",
    "---"
   ]
  },
  {
   "cell_type": "markdown",
   "metadata": {},
   "source": [
    "**Team Contributions**: In below section describe in detail how you distributed the workload and contributions of each member in the task."
   ]
  },
  {
   "cell_type": "markdown",
   "metadata": {},
   "source": []
  },
  {
   "cell_type": "markdown",
   "metadata": {},
   "source": [
    "---\n",
    "---"
   ]
  },
  {
   "cell_type": "markdown",
   "metadata": {},
   "source": []
  }
 ],
 "metadata": {
  "kernelspec": {
   "display_name": "base",
   "language": "python",
   "name": "python3"
  },
  "language_info": {
   "codemirror_mode": {
    "name": "ipython",
    "version": 3
   },
   "file_extension": ".py",
   "mimetype": "text/x-python",
   "name": "python",
   "nbconvert_exporter": "python",
   "pygments_lexer": "ipython3",
   "version": "3.9.12"
  }
 },
 "nbformat": 4,
 "nbformat_minor": 2
}
