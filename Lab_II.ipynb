{
 "cells": [
  {
   "cell_type": "markdown",
   "metadata": {},
   "source": [
    "# Computer Science 2XC3 - Graded Lab II"
   ]
  },
  {
   "cell_type": "markdown",
   "metadata": {},
   "source": [
    "In this day and age, it is very easy to generate automated solutions to any problem, not necessarily becuase of AI, but because of vast online communities that exist to find solution to popular/common problems. Whether or not that solution is correct and applicable to our context,  can be assessed only if we understand the concepts and can critically evaluate them. The goal of this lab is to motivate you to not only produce the correct solution to problems, but also to reflect about why, how and when your solution will likely succeed/fail. \n",
    "\n",
    "In this lab you will design experiments with sorting and search algorithms. Please read all instructions carefully. Seek the help of TA's if you need clarifications on the task. Do not hard code any results."
   ]
  },
  {
   "cell_type": "code",
   "execution_count": 1,
   "metadata": {},
   "outputs": [],
   "source": [
    "import random\n",
    "import time\n",
    "import timeit \n",
    "import matplotlib.pyplot as plt\n",
    "import numpy as np\n",
    "#"
   ]
  },
  {
   "cell_type": "markdown",
   "metadata": {},
   "source": []
  },
  {
   "cell_type": "markdown",
   "metadata": {},
   "source": [
    "---\n",
    "---"
   ]
  },
  {
   "cell_type": "markdown",
   "metadata": {},
   "source": [
    "### Part A"
   ]
  },
  {
   "cell_type": "markdown",
   "metadata": {},
   "source": [
    "##### A1. Implement three classes with the following sorting algorithms:\n",
    "- Bubble Sort\n",
    "- Insertion Sort\n",
    "- Selection Sort"
   ]
  },
  {
   "cell_type": "code",
   "execution_count": 7,
   "metadata": {},
   "outputs": [
    {
     "name": "stdout",
     "output_type": "stream",
     "text": [
      "[96, 85, 73, 21, 65]\n",
      "[21, 65, 73, 85, 96]\n"
     ]
    }
   ],
   "source": [
    "class BubbleSort:\n",
    "    def __init__(self, items_to_sort):\n",
    "        self.items = items_to_sort\n",
    "        self.sorted_items=[]\n",
    "\n",
    "    ### your implementation for bubble sort goes here \n",
    "    #items_to_sort is the list which you have to sort\n",
    "    #list im sorting is self.items\n",
    "    \n",
    "    def get_sorted(self):\n",
    "        \n",
    "        leng = len(self.items)\n",
    "        \n",
    "        for i in range(1,leng):\n",
    "            for j in range(0,leng - i):\n",
    "                if self.items[j] > self.items[j+1]:\n",
    "                    temp = self.items[j]\n",
    "                    self.items[j] = self.items[j+1]\n",
    "                    self.items[j+1] = temp\n",
    "            self.sorted_items = self.items\n",
    "            \n",
    "        return self.sorted_items\n",
    "    \n",
    "#test\n",
    "list1 = []\n",
    "\n",
    "for i in range (5,10):\n",
    "    list1.append(random.randint(0,100))\n",
    "\n",
    "l = BubbleSort(list1)\n",
    "print(list1)\n",
    "l2 = l.get_sorted()\n",
    "print(l2)\n"
   ]
  },
  {
   "cell_type": "code",
   "execution_count": 2,
   "metadata": {},
   "outputs": [
    {
     "name": "stdout",
     "output_type": "stream",
     "text": [
      "[91, 57, 45, 69, 58]\n",
      "[45, 57, 58, 69, 91]\n"
     ]
    }
   ],
   "source": [
    "class InsertionSort:\n",
    "    def __init__(self, items_to_sort):\n",
    "        self.items = items_to_sort\n",
    "        self.sorted_items=[]\n",
    "\n",
    "       ### your implementation for insertion sort goes here \n",
    "        \n",
    "    def get_sorted(self):\n",
    "        #self.sorted_items = self.items\n",
    "        for i in range (1,len(self.items)):\n",
    "            prev = i-1\n",
    "            curr = i\n",
    "\n",
    "            while self.items[prev] > self.items[curr]:\n",
    "                #swap\n",
    "                temp = self.items[curr]\n",
    "                self.items[curr] = self.items[prev]\n",
    "                self.items[prev] = temp\n",
    "\n",
    "                curr = prev\n",
    "                if prev > 0:\n",
    "                    prev = curr -1\n",
    "            \n",
    "           \n",
    "    \n",
    "        self.sorted_items = self.items\n",
    "        return self.sorted_items\n",
    "    \n",
    "\n",
    "#test\n",
    "list1 = []\n",
    "\n",
    "for i in range (5,10):\n",
    "    list1.append(random.randint(0,100))\n",
    "\n",
    "l = InsertionSort(list1)\n",
    "print(list1)\n",
    "l2 = l.get_sorted()\n",
    "print(l2)"
   ]
  },
  {
   "cell_type": "code",
   "execution_count": 6,
   "metadata": {},
   "outputs": [
    {
     "name": "stdout",
     "output_type": "stream",
     "text": [
      "[96, 52, 94, 26, 5]\n",
      "[5, 26, 52, 94, 96]\n"
     ]
    }
   ],
   "source": [
    "class SelectionSort:\n",
    "    def __init__(self, items_to_sort):\n",
    "        self.items = items_to_sort\n",
    "        self.sorted_items=[]\n",
    "#\n",
    "    def get_sorted(self):\n",
    "        for i in range(len(self.items)-1):\n",
    "            min_index = i\n",
    "            for j in range(i+1, len(self.items)):\n",
    "                if self.items[j] < self.items[min_index]:\n",
    "                    min_index = j\n",
    "            if i != min_index:\n",
    "                temp = self.items[i]\n",
    "                self.items[i] = self.items[min_index]\n",
    "                self.items[min_index] = temp\n",
    "            self.sorted_items = self.items\n",
    "\n",
    "    #def get_sorted(self):\n",
    "        return self.sorted_items\n",
    "    \n",
    "#test\n",
    "list1 = []\n",
    "\n",
    "for i in range (5,10):\n",
    "    list1.append(random.randint(0,100))\n",
    "\n",
    "l = SelectionSort(list1)\n",
    "print(list1)\n",
    "l2 = l.get_sorted()\n",
    "print(l2)"
   ]
  },
  {
   "cell_type": "markdown",
   "metadata": {},
   "source": [
    "___"
   ]
  },
  {
   "cell_type": "markdown",
   "metadata": {},
   "source": [
    "##### A2. Compute the performance of above 3 algorithms on a single list of real numbers.\n",
    "\n",
    "First generate a custom random list using function <code> create_custom_list()</code>. Execute each of the above algorithm for N trials ( select N >= 75) on the list and plot the timing of each execution on a bar chart. Also calculate the average execution time for the entire batch of N trials ( you can either display it on the chart or simply <code> print()</code> it). For larger values of N, consider breaking N trials into mini batches of n executions and plotting execution times for each mini batch. For instance, if you select N=1000, to plot execution timings for 1000 trials, you may break them into mini batch of n=10 trials and display average of each mini batch. This will reduce clutter in your bar charts while still enabling you to perform extensive testing with higher N.\n",
    "\n",
    "Execute each of the above algorithm on the same set of integers. The outcome of your code should be 3 charts for each algorithm run on your list N times. Few utility functions are given below. You do not have to necessarily use the <code> draw_plot()</code> function. You can plot your timings using an excel sheet and paste the image of your timings here. Refer to [Markdown Guide](https://www.markdownguide.org/basic-syntax/) on how to add images in the jupyter notebook or ask your TA."
   ]
  },
  {
   "cell_type": "code",
   "execution_count": 3,
   "metadata": {},
   "outputs": [],
   "source": [
    "def create_custom_list(length, max_value, item=None, item_index=None):\n",
    "    random_list = [random.randint(0,max_value) for i in range(length)]\n",
    "    if item!= None:\n",
    "        random_list.insert(item_index,item)\n",
    "    return random_list"
   ]
  },
  {
   "cell_type": "code",
   "execution_count": 4,
   "metadata": {},
   "outputs": [],
   "source": [
    "def draw_plot(run_arr):\n",
    "    x = np.arange(0, len(run_arr),1)\n",
    "    fig=plt.figure(figsize=(20,8))\n",
    "    plt.bar(x,run_arr)\n",
    "    plt.axhline(np.mean(run_arr),color=\"red\",linestyle=\"--\",label=\"Avg\")\n",
    "    plt.xlabel(\"Iterations\")\n",
    "    plt.ylabel(\"Run time in ms order of 1e-6\")\n",
    "    plt.title(\"Run time for retrieval\")\n",
    "    plt.show()"
   ]
  },
  {
   "cell_type": "code",
   "execution_count": 10,
   "metadata": {},
   "outputs": [
    {
     "name": "stdout",
     "output_type": "stream",
     "text": [
      "[6, 97, 94, 20, 35, 6, 10, 13, 30, 63, 66, 85, 26, 75, 37, 92, 26, 93, 62, 89, 98, 68, 74, 78, 95, 16, 69, 12, 26, 48, 70, 74, 95, 41, 35, 53, 66, 91, 96, 18, 16, 8, 41, 25, 55, 70, 17, 24, 74, 67, 76, 22, 99, 67, 36, 38, 38, 53, 86, 33, 83, 43, 20, 56, 38, 37, 61, 85, 8, 51, 97, 84, 96, 91, 35, 2, 26]\n",
      "[2, 6, 6, 8, 8, 10, 12, 13, 16, 16, 17, 18, 20, 20, 22, 24, 25, 26, 26, 26, 26, 30, 33, 35, 35, 35, 36, 37, 37, 38, 38, 38, 41, 41, 43, 48, 51, 53, 53, 55, 56, 61, 62, 63, 66, 66, 67, 67, 68, 69, 70, 70, 74, 74, 74, 75, 76, 78, 83, 84, 85, 85, 86, 89, 91, 91, 92, 93, 94, 95, 95, 96, 96, 97, 97, 98, 99]\n"
     ]
    },
    {
     "data": {
      "image/png": "[encoded data removed]",
      "text/plain": [
       "<Figure size 2000x800 with 1 Axes>"
      ]
     },
     "metadata": {},
     "output_type": "display_data"
    }
   ],
   "source": [
    "### Bubble sort experiment code goes here\n",
    "runs = random.randint(76,500)\n",
    "run_times = []\n",
    "l = create_custom_list(77,100)\n",
    "print(l)\n",
    "for i in range(runs):\n",
    "    list1 = BubbleSort(l)\n",
    "    start = timeit.default_timer()\n",
    "    found = list1.get_sorted()\n",
    "    stop = timeit.default_timer()\n",
    "    run_times.append(stop-start)\n",
    "print(found)\n",
    "draw_plot(run_times)\n"
   ]
  },
  {
   "cell_type": "code",
   "execution_count": 24,
   "metadata": {},
   "outputs": [
    {
     "name": "stdout",
     "output_type": "stream",
     "text": [
      "[11, 81, 50, 13, 56, 76, 6, 54, 25, 8, 97, 41, 24, 60, 65, 17, 81, 86, 89, 33, 48, 64, 56, 84, 92, 68, 31, 37, 75, 71, 15, 12, 99, 48, 21, 88, 37, 56, 28, 70, 54, 8, 19, 67, 50, 77, 1, 64, 72, 44, 44, 50, 85, 89, 80, 21, 42, 1, 41, 98, 30, 76, 84, 32, 41, 8, 51, 56, 80, 4, 71, 62, 77, 2, 58, 78, 42]\n",
      "[1, 1, 2, 4, 6, 8, 8, 8, 11, 12, 13, 15, 17, 19, 21, 21, 24, 25, 28, 30, 31, 32, 33, 37, 37, 41, 41, 41, 42, 42, 44, 44, 48, 48, 50, 50, 50, 51, 54, 54, 56, 56, 56, 56, 58, 60, 62, 64, 64, 65, 67, 68, 70, 71, 71, 72, 75, 76, 76, 77, 77, 78, 80, 80, 81, 81, 84, 84, 85, 86, 88, 89, 89, 92, 97, 98, 99]\n"
     ]
    },
    {
     "data": {
      "image/png": "[encoded data removed]",
      "text/plain": [
       "<Figure size 2000x800 with 1 Axes>"
      ]
     },
     "metadata": {},
     "output_type": "display_data"
    }
   ],
   "source": [
    "### Insertion sort experiment code goes here\n",
    "\n",
    "runs = random.randint(76,500)\n",
    "run_times = []\n",
    "l = create_custom_list(77,100)\n",
    "print(l)\n",
    "for i in range(runs):\n",
    "    list = InsertionSort(l)\n",
    "    start = timeit.default_timer()\n",
    "    found = list.get_sorted()\n",
    "    stop = timeit.default_timer()\n",
    "    run_times.append(stop-start)\n",
    "print(found)\n",
    "draw_plot(run_times)"
   ]
  },
  {
   "cell_type": "code",
   "execution_count": 11,
   "metadata": {},
   "outputs": [
    {
     "name": "stdout",
     "output_type": "stream",
     "text": [
      "[67, 56, 81, 43, 50, 56, 1, 3, 48, 21, 91, 33, 59, 91, 25, 70, 19, 100, 46, 21, 25, 85, 17, 8, 19, 10, 15, 4, 23, 7, 32, 96, 68, 69, 90, 68, 16, 27, 40, 25, 14, 9, 24, 28, 54, 81, 100, 15, 66, 2, 94, 28, 0, 49, 13, 74, 83, 23, 64, 94, 24, 46, 99, 36, 42, 61, 80, 93, 30, 91, 28, 72, 74, 24, 87, 6, 82]\n",
      "[0, 1, 2, 3, 4, 6, 7, 8, 9, 10, 13, 14, 15, 15, 16, 17, 19, 19, 21, 21, 23, 23, 24, 24, 24, 25, 25, 25, 27, 28, 28, 28, 30, 32, 33, 36, 40, 42, 43, 46, 46, 48, 49, 50, 54, 56, 56, 59, 61, 64, 66, 67, 68, 68, 69, 70, 72, 74, 74, 80, 81, 81, 82, 83, 85, 87, 90, 91, 91, 91, 93, 94, 94, 96, 99, 100, 100]\n"
     ]
    },
    {
     "data": {
      "image/png": "[encoded data removed]",
      "text/plain": [
       "<Figure size 2000x800 with 1 Axes>"
      ]
     },
     "metadata": {},
     "output_type": "display_data"
    }
   ],
   "source": [
    "### Selection sort experiment code goes here\n",
    "\n",
    "runs = random.randint(76,500)\n",
    "run_times = []\n",
    "l = create_custom_list(77,100)\n",
    "print(l)\n",
    "for i in range(runs):\n",
    "    list1 = SelectionSort(l)\n",
    "    start = timeit.default_timer()\n",
    "    found = list1.get_sorted()\n",
    "    stop = timeit.default_timer()\n",
    "    run_times.append(stop-start)\n",
    "print(found)\n",
    "draw_plot(run_times)"
   ]
  },
  {
   "cell_type": "markdown",
   "metadata": {},
   "source": [
    "You would notice that certain sorting algorithms have better time complexity (or performance) than others. Write below a reflection of your observations. Can you confidently compare the performance across the 3 algorithms? Why does certain algorithm perform better than the other? What are the various factors impacting the best performing and the worst performing algorithm. Write a few sentences answering each of the above questions. Also describe any other observation you found important.\n",
    "\n",
    "**Reflection**:\n"
   ]
  },
  {
   "cell_type": "markdown",
   "metadata": {},
   "source": [
    "---"
   ]
  },
  {
   "cell_type": "markdown",
   "metadata": {},
   "source": [
    "##### A3. Compute the performance of above 3 algorithms on a different list sizes.\n",
    "\n",
    "The <code> create_custom_list()</code> helps you create lists of varying lengths and range of numbers. Plot a **line chart** that shows the performance of each algorithm on different list sizes ranging between 1 - 100,000 integers. If you think about this question, you are essentially plotting the time complexity on various list sizes. "
   ]
  },
  {
   "cell_type": "code",
   "execution_count": 5,
   "metadata": {},
   "outputs": [],
   "source": [
    "def line_plot(run_arr):\n",
    "    x = np.arange(0, len(run_arr),1)\n",
    "    fig=plt.figure(figsize=(20,8))\n",
    "    plt.plot(x,run_arr)\n",
    "   # plt.axhline(np.mean(run_arr),color=\"red\",linestyle=\"--\",label=\"Avg\")\n",
    "    plt.xlabel(\"Iterations\")\n",
    "    plt.ylabel(\"Run time in ms order of 1e-6\")\n",
    "    plt.title(\"Run time for retrieval\")\n",
    "    plt.show()\n",
    "\n",
    "#print(np.arange(0,10,1))"
   ]
  },
  {
   "cell_type": "code",
   "execution_count": 12,
   "metadata": {},
   "outputs": [],
   "source": [
    "### Bubble sort experiment code goes here"
   ]
  },
  {
   "cell_type": "code",
   "execution_count": 27,
   "metadata": {},
   "outputs": [
    {
     "name": "stdout",
     "output_type": "stream",
     "text": [
      "times= [5.1160002476535735e-06, 0.0002380499997525476, 0.0013565780004137196, 0.002716476000496186, 0.0040884180000284685]\n"
     ]
    },
    {
     "data": {
      "image/png": "[encoded data removed]",
      "text/plain": [
       "<Figure size 2000x800 with 1 Axes>"
      ]
     },
     "metadata": {},
     "output_type": "display_data"
    }
   ],
   "source": [
    "### Insertion sort experiment code goes here\n",
    "runs = 50\n",
    "run_times = []\n",
    "\n",
    "#print(l)\n",
    "for i in range(1,1000,200):\n",
    "    l = create_custom_list(i,100)\n",
    "    avg =0 \n",
    "    #find avg for each length of list\n",
    "    for j in range(runs):\n",
    "        insertion = InsertionSort(l)\n",
    "        start = timeit.default_timer()\n",
    "        insertion.get_sorted()\n",
    "        stop = timeit.default_timer()\n",
    "        avg += (stop-start)\n",
    "    run_times.append(avg / runs)\n",
    "print(\"times=\",run_times)\n",
    "line_plot(run_times)"
   ]
  },
  {
   "cell_type": "code",
   "execution_count": null,
   "metadata": {},
   "outputs": [],
   "source": [
    "### Selection sort experiment code goes here"
   ]
  },
  {
   "cell_type": "markdown",
   "metadata": {},
   "source": [
    "Describe you results here. What did you observe when comparing the charts? Which algorithm was more performant and why?\n",
    "\n",
    "**Reflection** :"
   ]
  },
  {
   "cell_type": "markdown",
   "metadata": {},
   "source": [
    "---"
   ]
  },
  {
   "cell_type": "markdown",
   "metadata": {},
   "source": [
    "##### A4. Compute the performance of above 3 algorithms on a different list \"states\".\n",
    "\n",
    "Using the same above list generation function (or writing a function of your own), create two different lists states: \n",
    "\n",
    "- A state where the list is **near** sorted.\n",
    "- A state where the list is completely unsorted.\n",
    "\n",
    "HINTS: \n",
    "\n",
    "- You can implement a \"controlled\" Quicksort algorithm for such a function. While you can find many implementations of such a function online, significant number of those solutions originate from this psuedocode [Generating Sorted Lists of Random Numbers](https://dl.acm.org/doi/pdf/10.1145/355900.355907). \n",
    "\n",
    "- You can modify the list generation code given above to create the above list examples.\n",
    "\n",
    "Compare the performance of all 3 sorting algorithms on these two lists. Plot their performance on bar chart and display them here. "
   ]
  },
  {
   "cell_type": "code",
   "execution_count": 93,
   "metadata": {},
   "outputs": [
    {
     "name": "stdout",
     "output_type": "stream",
     "text": [
      "[23, 26, 24, 100, 3, 30, 51, 56, 82, 52, 91, 58, 39, 79, 50]\n",
      "[51, 24, 3, 30, 26, 23, 52, 39, 50, 56, 91, 82, 100, 58, 79]\n"
     ]
    }
   ],
   "source": [
    "#partially sort a list  using quick sort\n",
    "\n",
    "#think of k as degree of unsortedness, big k means less likely to be unsorted, cant be too big tho i think\n",
    "\n",
    "#k is supposed to be the length at which it stops recursing which is why it is in the base case, \n",
    "#implying it wont be fully sorted by k length for the sub lists\n",
    "\n",
    "def quick_sort(my_list, start=None, end=None, k=1):\n",
    "    \n",
    "    #error handling?\n",
    "    if k > len(my_list):\n",
    "        k = 1\n",
    "     \n",
    "\n",
    "    if start == None:\n",
    "        start = 0\n",
    "    if end == None:\n",
    "        end = len(my_list)\n",
    "    \n",
    "\n",
    "    if len(my_list) == 0 or len(my_list) == 1:\n",
    "   # if end-start < k:    \n",
    "        return my_list   \n",
    "   \n",
    "\n",
    "    \n",
    "\n",
    "    \n",
    "\n",
    "    pivot = my_list[end//2]\n",
    "\n",
    "    #move pivot to begining \n",
    "    t = my_list[0]\n",
    "    my_list[0] = my_list[end//2]\n",
    "\n",
    "    my_list[end//2] = t\n",
    "\n",
    "    #print(\"swap\", my_list)\n",
    "    #print(\"p \", pivot)\n",
    "\n",
    "\n",
    "    #lowest from left\n",
    "    left = []\n",
    "    #highest from the right\n",
    "    right = []\n",
    "\n",
    "    #find stuff less than pivot add to left\n",
    "    for i in range (1, end):\n",
    "\n",
    "        if my_list[i] < pivot:\n",
    "            left.append(my_list[i])\n",
    "\n",
    "    #find stuff greater than pivot add to right\n",
    "    for j in range (1, end):\n",
    "\n",
    "        if my_list[j] >= pivot:\n",
    "            right.append(my_list[j])\n",
    "\n",
    "\n",
    "    #pivot not has a spot in list\n",
    "    new_list = quick_sort(left) + [pivot] + quick_sort(right)\n",
    "    #print(\"n= \",left)\n",
    "    final = left + [pivot] + right\n",
    "\n",
    "    #end recursion when sublists are < k\n",
    "    if len(left) < k or len(right) < k:\n",
    "        return final\n",
    "    else:\n",
    "        return new_list\n",
    "\n",
    "\n",
    "    \n",
    "    \n",
    "    \n",
    "\n",
    "##\n",
    "l2 = create_custom_list(15,100)\n",
    "\n",
    "#l2 = [7,2,5,9,0,15,53,12,7,4]\n",
    "\n",
    "print(l2)\n",
    "\n",
    "print(quick_sort(l2,0,None,7))"
   ]
  },
  {
   "cell_type": "code",
   "execution_count": 90,
   "metadata": {},
   "outputs": [],
   "source": [
    "### Bubble sort experiment code goes here"
   ]
  },
  {
   "cell_type": "code",
   "execution_count": null,
   "metadata": {},
   "outputs": [],
   "source": [
    "### Selection sort experiment code goes here"
   ]
  },
  {
   "cell_type": "code",
   "execution_count": null,
   "metadata": {},
   "outputs": [],
   "source": [
    "### Insertion sort experiment code goes here"
   ]
  },
  {
   "cell_type": "markdown",
   "metadata": {},
   "source": [
    "Describe you observations here. Which algorithm performs best / worst for sorted/near sorted lists and why? Does the performance vary significantly? Describe which runs times were higher and why do you think that is? You woul\n",
    "\n",
    "**Reflection** :"
   ]
  },
  {
   "cell_type": "markdown",
   "metadata": {},
   "source": [
    "---\n",
    "---"
   ]
  },
  {
   "cell_type": "markdown",
   "metadata": {},
   "source": [
    "### Part B"
   ]
  },
  {
   "cell_type": "markdown",
   "metadata": {},
   "source": [
    "In the class, we discussed three implementations of Binary Search. "
   ]
  },
  {
   "cell_type": "code",
   "execution_count": 2,
   "metadata": {},
   "outputs": [],
   "source": [
    "def binary_search_1(item_list, to_find):\n",
    "    lower=0\n",
    "    upper=len(item_list)-1\n",
    "    while lower < upper:\n",
    "        mid = (lower+upper)//2\n",
    "        if item_list[mid] == to_find:\n",
    "            return True\n",
    "        if item_list[mid] < to_find:\n",
    "            lower = mid+1\n",
    "        else:\n",
    "            upper=mid\n",
    "    return item_list[lower]==to_find"
   ]
  },
  {
   "cell_type": "code",
   "execution_count": 3,
   "metadata": {},
   "outputs": [],
   "source": [
    "def binary_search_2(item_list, to_find):\n",
    "    lower=0\n",
    "    upper=len(item_list)-1\n",
    "    while lower <= upper:\n",
    "        mid = (lower+upper)//2\n",
    "        if item_list[mid] == to_find:\n",
    "            return True\n",
    "        if item_list[mid] < to_find:\n",
    "            lower = mid+1\n",
    "        else:\n",
    "            upper=mid-1\n",
    "    return item_list[lower]==to_find"
   ]
  },
  {
   "cell_type": "code",
   "execution_count": null,
   "metadata": {},
   "outputs": [],
   "source": [
    "def binary_search_3(item_list, to_find):\n",
    "    left=0\n",
    "    right=len(item_list)-1\n",
    "    while left != right:\n",
    "        mid = (left+right)//2\n",
    "        if item_list[mid] < to_find:\n",
    "            left = mid+1\n",
    "        elif item_list[mid] > to_find:\n",
    "            right = mid\n",
    "        else:\n",
    "            return True\n",
    "    return item_list[left]==to_find"
   ]
  },
  {
   "cell_type": "markdown",
   "metadata": {},
   "source": [
    "Compare the performance of each implementation (or variation) with two lists:\n",
    "\n",
    "1. List is odd numbered (minimum 1000 integers)\n",
    "1. List is even numbered (minimum 1000 integers)\n",
    "\n",
    "Run the above experiments when the item to be found is:\n",
    "1. At the begining of the list.\n",
    "1. Towards the end of the list.\n",
    "1. Right at the middle of the list.\n",
    "\n",
    "The above three combinations would yield 3X2 experiments. Provide detailed outline of the experiments, plots, and a brief description of the observations in the reflections section."
   ]
  },
  {
   "cell_type": "code",
   "execution_count": null,
   "metadata": {},
   "outputs": [],
   "source": [
    "## you experiment code goes here"
   ]
  },
  {
   "cell_type": "markdown",
   "metadata": {},
   "source": [
    "**Reflection**:"
   ]
  },
  {
   "cell_type": "markdown",
   "metadata": {},
   "source": [
    "---\n",
    "---"
   ]
  },
  {
   "cell_type": "markdown",
   "metadata": {},
   "source": [
    "### Part C"
   ]
  },
  {
   "cell_type": "markdown",
   "metadata": {},
   "source": [
    "Recall that I discussed in the class, the possibility of \"reducing the comparisons\" in Binary Search implementation. One solution came up is to remove the comparison with \"mid\". If you design an experiment to test this, you will soon realize that while this speeds up the execution time by reducing the number of comparisons needed, it fails when the element to be searched is right in the middle.  So are there any ways to improve the speed of Binary Search that is not dependent on data? The answer is recursion! In this section, implement a Binary Search recursively."
   ]
  },
  {
   "cell_type": "code",
   "execution_count": 4,
   "metadata": {},
   "outputs": [],
   "source": [
    "def binary_search_4(item_list, to_find):\n",
    "    return False"
   ]
  },
  {
   "cell_type": "markdown",
   "metadata": {},
   "source": [
    "Run all the experiments in Part B comapring all 4 implementations under all 6 cases. Plot the timings, and describe the results in the below section. Write a short description of your observation; why is recursion better in this case?"
   ]
  },
  {
   "cell_type": "code",
   "execution_count": null,
   "metadata": {},
   "outputs": [],
   "source": [
    "# your implementation and experiments go here."
   ]
  },
  {
   "cell_type": "markdown",
   "metadata": {},
   "source": [
    "##### Result Discussion:"
   ]
  },
  {
   "cell_type": "markdown",
   "metadata": {},
   "source": [
    "---\n",
    "---"
   ]
  },
  {
   "cell_type": "markdown",
   "metadata": {},
   "source": [
    "### PART D"
   ]
  },
  {
   "cell_type": "markdown",
   "metadata": {},
   "source": [
    "Now that you are comfortable in designing experiments, in this section, use the implementations of **Heap**, **Merge**, and **Quick** sort discussed in class and run suitable experiments to compare the runtimes of these three algorithms. \n",
    "\n",
    "Hint: it should become clear where Quick sort gets its name."
   ]
  },
  {
   "cell_type": "code",
   "execution_count": null,
   "metadata": {},
   "outputs": [],
   "source": [
    "# your implementation and experiments go here."
   ]
  },
  {
   "cell_type": "markdown",
   "metadata": {},
   "source": [
    "In this section, provide a detailed outline of:\n",
    "- The experiments you ran, length values of the list you chose, number of runs, etc.\n",
    "- The plots showing the run times corresponding to each algorithm.\n",
    "- A brief discussion and conclusion regarding the results. A few sentences are fine here."
   ]
  },
  {
   "cell_type": "markdown",
   "metadata": {},
   "source": [
    "---\n",
    "---"
   ]
  },
  {
   "cell_type": "markdown",
   "metadata": {},
   "source": [
    "### PART E"
   ]
  },
  {
   "cell_type": "markdown",
   "metadata": {},
   "source": [
    "E1. In previous experiments you also saw that not all algorithms are suitable for all scenarios. For instance, Merge Sort is better than Quick sort for certain situations. In this section, design a experiment to compare the scenarios where Merge Sort is better/worse than Quick Sort. You can use the traditional version of Merge Sort or use improved version ( maybe via recursion) to compare this performance."
   ]
  },
  {
   "cell_type": "code",
   "execution_count": null,
   "metadata": {},
   "outputs": [],
   "source": [
    "# your implementation and experiments go here."
   ]
  },
  {
   "cell_type": "markdown",
   "metadata": {},
   "source": [
    "In this section, provide a detailed outline of:\n",
    "- The experiments you ran, length values of the list you chose, number of runs, etc.\n",
    "- The plots showing the run times corresponding to each algorithm.\n",
    "- A brief discussion and conclusion regarding the results. A few sentences are fine here."
   ]
  },
  {
   "cell_type": "markdown",
   "metadata": {},
   "source": [
    "---"
   ]
  },
  {
   "cell_type": "markdown",
   "metadata": {},
   "source": [
    "E2. Recall that on the first day of class I asked which two algorithms have similar complexity - Merge Sort and Quick Sort under (O(nlogn)) are likely to perform similar under average cases. However, under worst case, the complexity of quick sort is much worse (O(n^2). Design an experiment to show this behavior. Plot this behavior on a bar/line chart. \n",
    "\n",
    "Next, count the number of \"swaps\" after which Quick sort starts behaving comparable to Merge sort. \n",
    "\n",
    "HINT: This will be a threshold at which the quick sort algorithm picks up again.\n"
   ]
  },
  {
   "cell_type": "code",
   "execution_count": 1,
   "metadata": {},
   "outputs": [],
   "source": [
    "## your implementation and code goes here"
   ]
  },
  {
   "cell_type": "markdown",
   "metadata": {},
   "source": [
    "In this section, provide a detailed outline of:\n",
    "- The experiments you ran and the rationale behind your worst case scenario.\n",
    "- The plots showing the run times.\n",
    "\n",
    "Further explain how you computed the swaps and verify that you calculation is correct, by applying it on a diifferent list under same experimental conditions."
   ]
  },
  {
   "cell_type": "markdown",
   "metadata": {},
   "source": [
    "**Reflection**:"
   ]
  },
  {
   "cell_type": "markdown",
   "metadata": {},
   "source": [
    "---\n",
    "---"
   ]
  },
  {
   "cell_type": "markdown",
   "metadata": {},
   "source": [
    "### PART F"
   ]
  },
  {
   "cell_type": "markdown",
   "metadata": {},
   "source": [
    "Traditionally, Insertion Sort is worst than Heap Sort and Merge Sort. Now that you are a master at critical evaluation of sorting and searching algorithms, design an experiment to show that this may not be universally true. That is, there maybe scenarios where insertion sort is better than merge and heap sort.\n",
    "\n",
    "HINT: Think about the Best Case of insertion sort.\n",
    "\n",
    "Again, provide:\n",
    "- An explicit outline of the experiments you ran. That is, list length values, how many “runs”, etc.\n",
    "- A graph of list length vs time displaying the appropriate three curves showing. List lengths should be small here.\n",
    "- A brief discussion and conclusion regarding the results. A few sentences are fine here.\n",
    "- Reflect on why these are experiments are important. \n",
    "\n",
    "HINT: Can you create some sort of \"hybrid\" sort that would be better?"
   ]
  },
  {
   "cell_type": "code",
   "execution_count": null,
   "metadata": {},
   "outputs": [],
   "source": [
    "## your implementation and code goes here"
   ]
  },
  {
   "cell_type": "markdown",
   "metadata": {},
   "source": [
    "**Reflection**:"
   ]
  },
  {
   "cell_type": "markdown",
   "metadata": {},
   "source": [
    "---\n",
    "---"
   ]
  },
  {
   "cell_type": "markdown",
   "metadata": {},
   "source": [
    "**Team Contributions**: In below section describe in detail how you distributed the workload and contributions of each member in the task."
   ]
  },
  {
   "cell_type": "markdown",
   "metadata": {},
   "source": []
  },
  {
   "cell_type": "markdown",
   "metadata": {},
   "source": [
    "---\n",
    "---"
   ]
  },
  {
   "cell_type": "markdown",
   "metadata": {},
   "source": []
  }
 ],
 "metadata": {
  "kernelspec": {
   "display_name": "Python 3 (ipykernel)",
   "language": "python",
   "name": "python3"
  },
  "language_info": {
   "codemirror_mode": {
    "name": "ipython",
    "version": 3
   },
   "file_extension": ".py",
   "mimetype": "text/x-python",
   "name": "python",
   "nbconvert_exporter": "python",
   "pygments_lexer": "ipython3",
   "version": "3.9.13"
  }
 },
 "nbformat": 4,
 "nbformat_minor": 2
}
